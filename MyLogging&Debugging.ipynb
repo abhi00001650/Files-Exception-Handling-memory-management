{
 "cells": [
  {
   "cell_type": "code",
   "execution_count": 1,
   "id": "92a2d4f3-bfe7-4508-84e5-26e50b7a2509",
   "metadata": {},
   "outputs": [],
   "source": [
    "#Debugging - Process of identifying and fixing bugs/issues in your code\n",
    "#It involves >> breaking the code(checkpoint), executing the code, inspecting the variables using print statement"
   ]
  },
  {
   "cell_type": "code",
   "execution_count": 10,
   "id": "dd1dc1a6-cfa7-4a9c-b241-218cb2e28af4",
   "metadata": {},
   "outputs": [],
   "source": [
    "def divide(a,b):\n",
    "    return a/b"
   ]
  },
  {
   "cell_type": "code",
   "execution_count": 11,
   "id": "9009c1f2-7b82-49ac-b90c-adf5d9b8b47e",
   "metadata": {},
   "outputs": [
    {
     "data": {
      "text/plain": [
       "5.0"
      ]
     },
     "execution_count": 11,
     "metadata": {},
     "output_type": "execute_result"
    }
   ],
   "source": [
    "divide(10,2)"
   ]
  },
  {
   "cell_type": "code",
   "execution_count": 12,
   "id": "cd8590bd-ec53-4fbb-bd89-fe8e08ad5629",
   "metadata": {},
   "outputs": [
    {
     "data": {
      "text/plain": [
       "4.0"
      ]
     },
     "execution_count": 12,
     "metadata": {},
     "output_type": "execute_result"
    }
   ],
   "source": [
    "divide(12,3)"
   ]
  },
  {
   "cell_type": "code",
   "execution_count": 13,
   "id": "fb0c7ed4-6d58-48f8-ab1b-c6f30241aea6",
   "metadata": {},
   "outputs": [
    {
     "ename": "ZeroDivisionError",
     "evalue": "division by zero",
     "output_type": "error",
     "traceback": [
      "\u001b[1;31m---------------------------------------------------------------------------\u001b[0m",
      "\u001b[1;31mZeroDivisionError\u001b[0m                         Traceback (most recent call last)",
      "Cell \u001b[1;32mIn[13], line 1\u001b[0m\n\u001b[1;32m----> 1\u001b[0m divide(\u001b[38;5;241m10\u001b[39m,\u001b[38;5;241m0\u001b[39m)\n",
      "Cell \u001b[1;32mIn[10], line 2\u001b[0m, in \u001b[0;36mdivide\u001b[1;34m(a, b)\u001b[0m\n\u001b[0;32m      1\u001b[0m \u001b[38;5;28;01mdef\u001b[39;00m\u001b[38;5;250m \u001b[39m\u001b[38;5;21mdivide\u001b[39m(a,b):\n\u001b[1;32m----> 2\u001b[0m     \u001b[38;5;28;01mreturn\u001b[39;00m a\u001b[38;5;241m/\u001b[39mb\n",
      "\u001b[1;31mZeroDivisionError\u001b[0m: division by zero"
     ]
    }
   ],
   "source": [
    "divide(10,0)"
   ]
  },
  {
   "cell_type": "code",
   "execution_count": 15,
   "id": "c494e479-b17d-49b3-86a6-8219af3fd174",
   "metadata": {},
   "outputs": [
    {
     "ename": "ZeroDivisionError",
     "evalue": "division by zero",
     "output_type": "error",
     "traceback": [
      "\u001b[1;31m---------------------------------------------------------------------------\u001b[0m",
      "\u001b[1;31mZeroDivisionError\u001b[0m                         Traceback (most recent call last)",
      "Cell \u001b[1;32mIn[15], line 2\u001b[0m\n\u001b[0;32m      1\u001b[0m \u001b[38;5;28;01mfor\u001b[39;00m i \u001b[38;5;129;01min\u001b[39;00m \u001b[38;5;28mrange\u001b[39m (\u001b[38;5;241m-\u001b[39m\u001b[38;5;241m10\u001b[39m,\u001b[38;5;241m10\u001b[39m):\n\u001b[1;32m----> 2\u001b[0m     divide(i , i\u001b[38;5;241m+\u001b[39m\u001b[38;5;241m1\u001b[39m)\n",
      "Cell \u001b[1;32mIn[10], line 2\u001b[0m, in \u001b[0;36mdivide\u001b[1;34m(a, b)\u001b[0m\n\u001b[0;32m      1\u001b[0m \u001b[38;5;28;01mdef\u001b[39;00m\u001b[38;5;250m \u001b[39m\u001b[38;5;21mdivide\u001b[39m(a,b):\n\u001b[1;32m----> 2\u001b[0m     \u001b[38;5;28;01mreturn\u001b[39;00m a\u001b[38;5;241m/\u001b[39mb\n",
      "\u001b[1;31mZeroDivisionError\u001b[0m: division by zero"
     ]
    }
   ],
   "source": [
    "for i in range (-10,10):\n",
    "    divide(i , i+1)\n",
    "#you have called divide function many times at somewhere it showing error , but where ??\n",
    "# in this case you have to debug the code >> for what values of a and b parameters , its throwing error"
   ]
  },
  {
   "cell_type": "code",
   "execution_count": 16,
   "id": "f94f0fb3-23d9-4a0c-9551-ed77e8da8c5e",
   "metadata": {},
   "outputs": [],
   "source": [
    "#how to debug:\n",
    "#>> Breaking the code(checkpoint), executing the code, inspecting the variables using print statement\n"
   ]
  },
  {
   "cell_type": "code",
   "execution_count": 17,
   "id": "5d4e7277-865a-4fcf-ad80-512515b3977b",
   "metadata": {},
   "outputs": [
    {
     "ename": "ZeroDivisionError",
     "evalue": "division by zero",
     "output_type": "error",
     "traceback": [
      "\u001b[1;31m---------------------------------------------------------------------------\u001b[0m",
      "\u001b[1;31mZeroDivisionError\u001b[0m                         Traceback (most recent call last)",
      "Cell \u001b[1;32mIn[17], line 5\u001b[0m\n\u001b[0;32m      2\u001b[0m     \u001b[38;5;28;01mreturn\u001b[39;00m a\u001b[38;5;241m/\u001b[39mb\n\u001b[0;32m      4\u001b[0m \u001b[38;5;28;01mfor\u001b[39;00m i \u001b[38;5;129;01min\u001b[39;00m \u001b[38;5;28mrange\u001b[39m (\u001b[38;5;241m-\u001b[39m\u001b[38;5;241m10\u001b[39m,\u001b[38;5;241m10\u001b[39m):\n\u001b[1;32m----> 5\u001b[0m     divide(i , i\u001b[38;5;241m+\u001b[39m\u001b[38;5;241m1\u001b[39m)\n",
      "Cell \u001b[1;32mIn[17], line 2\u001b[0m, in \u001b[0;36mdivide\u001b[1;34m(a, b)\u001b[0m\n\u001b[0;32m      1\u001b[0m \u001b[38;5;28;01mdef\u001b[39;00m\u001b[38;5;250m \u001b[39m\u001b[38;5;21mdivide\u001b[39m(a,b):\n\u001b[1;32m----> 2\u001b[0m     \u001b[38;5;28;01mreturn\u001b[39;00m a\u001b[38;5;241m/\u001b[39mb\n",
      "\u001b[1;31mZeroDivisionError\u001b[0m: division by zero"
     ]
    }
   ],
   "source": [
    "def divide(a,b):\n",
    "    return a/b\n",
    "\n",
    "for i in range (-10,10):\n",
    "    divide(i , i+1)\n",
    "#breaking the code>> here we understand there are two steps involved\n",
    "#first a loop and second calling divide function in loop"
   ]
  },
  {
   "cell_type": "code",
   "execution_count": 18,
   "id": "fbddb47a-7407-4340-b3d7-cc9310963f83",
   "metadata": {},
   "outputs": [
    {
     "name": "stdout",
     "output_type": "stream",
     "text": [
      "-10 -9\n",
      "-9 -8\n",
      "-8 -7\n",
      "-7 -6\n",
      "-6 -5\n",
      "-5 -4\n",
      "-4 -3\n",
      "-3 -2\n",
      "-2 -1\n",
      "-1 0\n"
     ]
    },
    {
     "ename": "ZeroDivisionError",
     "evalue": "division by zero",
     "output_type": "error",
     "traceback": [
      "\u001b[1;31m---------------------------------------------------------------------------\u001b[0m",
      "\u001b[1;31mZeroDivisionError\u001b[0m                         Traceback (most recent call last)",
      "Cell \u001b[1;32mIn[18], line 7\u001b[0m\n\u001b[0;32m      5\u001b[0m \u001b[38;5;28;01mfor\u001b[39;00m i \u001b[38;5;129;01min\u001b[39;00m \u001b[38;5;28mrange\u001b[39m (\u001b[38;5;241m-\u001b[39m\u001b[38;5;241m10\u001b[39m,\u001b[38;5;241m10\u001b[39m):\n\u001b[0;32m      6\u001b[0m     \u001b[38;5;28mprint\u001b[39m(i , i\u001b[38;5;241m+\u001b[39m\u001b[38;5;241m1\u001b[39m)\n\u001b[1;32m----> 7\u001b[0m     divide(i , i\u001b[38;5;241m+\u001b[39m\u001b[38;5;241m1\u001b[39m)\n",
      "Cell \u001b[1;32mIn[18], line 3\u001b[0m, in \u001b[0;36mdivide\u001b[1;34m(a, b)\u001b[0m\n\u001b[0;32m      2\u001b[0m \u001b[38;5;28;01mdef\u001b[39;00m\u001b[38;5;250m \u001b[39m\u001b[38;5;21mdivide\u001b[39m(a,b):\n\u001b[1;32m----> 3\u001b[0m     \u001b[38;5;28;01mreturn\u001b[39;00m a\u001b[38;5;241m/\u001b[39mb\n",
      "\u001b[1;31mZeroDivisionError\u001b[0m: division by zero"
     ]
    }
   ],
   "source": [
    "#usiong print statement to debug\n",
    "def divide(a,b):\n",
    "    return a/b\n",
    "\n",
    "for i in range (-10,10):\n",
    "    print(i , i+1)\n",
    "    divide(i , i+1)"
   ]
  },
  {
   "cell_type": "code",
   "execution_count": 19,
   "id": "8f2c6ea8-b3c9-4edc-a160-f6bcfedfe60c",
   "metadata": {},
   "outputs": [
    {
     "name": "stdout",
     "output_type": "stream",
     "text": [
      "-10 -9\n",
      "-9 -8\n",
      "-8 -7\n",
      "-7 -6\n",
      "-6 -5\n",
      "-5 -4\n",
      "-4 -3\n",
      "-3 -2\n",
      "-2 -1\n",
      "-1 0\n"
     ]
    },
    {
     "ename": "ZeroDivisionError",
     "evalue": "division by zero",
     "output_type": "error",
     "traceback": [
      "\u001b[1;31m---------------------------------------------------------------------------\u001b[0m",
      "\u001b[1;31mZeroDivisionError\u001b[0m                         Traceback (most recent call last)",
      "Cell \u001b[1;32mIn[19], line 8\u001b[0m\n\u001b[0;32m      4\u001b[0m     \u001b[38;5;28;01mreturn\u001b[39;00m a\u001b[38;5;241m/\u001b[39mb\n\u001b[0;32m      6\u001b[0m \u001b[38;5;28;01mfor\u001b[39;00m i \u001b[38;5;129;01min\u001b[39;00m \u001b[38;5;28mrange\u001b[39m (\u001b[38;5;241m-\u001b[39m\u001b[38;5;241m10\u001b[39m,\u001b[38;5;241m10\u001b[39m):\n\u001b[0;32m      7\u001b[0m     \u001b[38;5;66;03m#print(i , i+1)\u001b[39;00m\n\u001b[1;32m----> 8\u001b[0m     divide(i , i\u001b[38;5;241m+\u001b[39m\u001b[38;5;241m1\u001b[39m)\n",
      "Cell \u001b[1;32mIn[19], line 4\u001b[0m, in \u001b[0;36mdivide\u001b[1;34m(a, b)\u001b[0m\n\u001b[0;32m      2\u001b[0m \u001b[38;5;28;01mdef\u001b[39;00m\u001b[38;5;250m \u001b[39m\u001b[38;5;21mdivide\u001b[39m(a,b):\n\u001b[0;32m      3\u001b[0m     \u001b[38;5;28mprint\u001b[39m(a,b)\n\u001b[1;32m----> 4\u001b[0m     \u001b[38;5;28;01mreturn\u001b[39;00m a\u001b[38;5;241m/\u001b[39mb\n",
      "\u001b[1;31mZeroDivisionError\u001b[0m: division by zero"
     ]
    }
   ],
   "source": [
    "#using another print statement inside function\n",
    "def divide(a,b):\n",
    "    print(a,b)\n",
    "    return a/b\n",
    "#breaking the code logically\n",
    "for i in range (-10,10):\n",
    "    #print(i , i+1)\n",
    "    divide(i , i+1)"
   ]
  },
  {
   "cell_type": "code",
   "execution_count": 21,
   "id": "44dc440e-e509-45fb-a717-8447075e695d",
   "metadata": {},
   "outputs": [
    {
     "name": "stdout",
     "output_type": "stream",
     "text": [
      "-10 -9\n",
      "-9 -8\n",
      "-8 -7\n",
      "-7 -6\n",
      "-6 -5\n",
      "-5 -4\n",
      "-4 -3\n",
      "-3 -2\n",
      "-2 -1\n",
      "-1 0\n",
      "0 division error\n",
      "0 1\n",
      "1 2\n",
      "2 3\n",
      "3 4\n",
      "4 5\n",
      "5 6\n",
      "6 7\n",
      "7 8\n",
      "8 9\n",
      "9 10\n"
     ]
    }
   ],
   "source": [
    "# from print statement you understand that when b is 0 it gives error\n",
    "def divide(a,b):\n",
    "    print(a,b)\n",
    "    #breaking the code in terms of execution using return or print statement\n",
    "    if b==0:\n",
    "        print(\"0 division error\")\n",
    "        return\n",
    "    return a/b\n",
    "\n",
    "for i in range (-10,10):\n",
    "    #print(i , i+1)\n",
    "    divide(i , i+1)"
   ]
  },
  {
   "cell_type": "code",
   "execution_count": 22,
   "id": "d5544fab-2c94-45d1-92d7-98c3c9619813",
   "metadata": {},
   "outputs": [],
   "source": [
    "#print statement is not a pythonic way to debug>> print statement are not efficient\n",
    "#print statement is good for simple scripts but not complex \n",
    "#in console/terminal all the variables all the print statement will be lost \n",
    "#you use logging instead of print statement "
   ]
  },
  {
   "cell_type": "code",
   "execution_count": 23,
   "id": "0ccfcd80-097e-4a37-a177-1c021630c959",
   "metadata": {},
   "outputs": [],
   "source": [
    "#LOGGING >> it records the state and flow of your program/code/software\n",
    "#it is useful for understanding and monitoring of your code #\n",
    "#it shows how you rprogram behaves over time\n",
    "\n",
    "\n",
    "#ANALOGY>> diary entry since childhood till now>> you will understand how u evolved \n",
    "#similarly in complex scripts to understand how your code is changing the result over time, you can log the specific steps"
   ]
  },
  {
   "cell_type": "code",
   "execution_count": 24,
   "id": "a29e83e4-74b7-4413-a3f5-20f6b5eb0042",
   "metadata": {},
   "outputs": [],
   "source": [
    "#Theoritical use case explanation\n",
    "#see the different steps of coding below\n",
    "#step1>> remove some element of list\n",
    "#step2>> capitalize >> upper case\n",
    "#step3>> remove metropolitian city\n",
    "#step4>> lower case\n",
    "#if after step 3 the list becomes empty , step 4 can throw error , so you can log the result of step3 to debug\n"
   ]
  },
  {
   "cell_type": "code",
   "execution_count": 25,
   "id": "a54e73e1-9e03-41a6-9a77-3757a6386f14",
   "metadata": {},
   "outputs": [],
   "source": [
    "# logging supports different levels of logging which helps to categorize messages based on their severity\n",
    "#ANALOGY >> different level of severity if terror attack go to emergency \n",
    "#similarly in logging we have different levels "
   ]
  },
  {
   "cell_type": "code",
   "execution_count": 26,
   "id": "5e41fd95-e2f5-4ad9-939e-4d8312b1053a",
   "metadata": {},
   "outputs": [],
   "source": [
    "import logging"
   ]
  },
  {
   "cell_type": "code",
   "execution_count": 27,
   "id": "7fb4a672-d107-46f4-9a55-caa80e1a22f6",
   "metadata": {},
   "outputs": [],
   "source": [
    "logging.basicConfig(filename = \"test.log\", level = logging.INFO)"
   ]
  },
  {
   "cell_type": "code",
   "execution_count": 29,
   "id": "546b7964-5745-429f-9b5a-8f0923c0b186",
   "metadata": {},
   "outputs": [],
   "source": [
    "logging.info(\"This is my normal information about the software\")"
   ]
  },
  {
   "cell_type": "code",
   "execution_count": 30,
   "id": "a5e7c38f-c0e6-4f23-a484-5dd58cadd5fb",
   "metadata": {},
   "outputs": [],
   "source": [
    "logging.warning(\"There can be empty list here\")"
   ]
  },
  {
   "cell_type": "code",
   "execution_count": 31,
   "id": "106c3637-aee7-4b5d-acea-b04dd268b821",
   "metadata": {},
   "outputs": [],
   "source": [
    "logging.debug(\"The length of list is\")"
   ]
  },
  {
   "cell_type": "code",
   "execution_count": 33,
   "id": "67ed3f52-c030-41d3-8cec-4ec135b8bf19",
   "metadata": {},
   "outputs": [],
   "source": [
    "logging.error(\"Some error has happened\")"
   ]
  },
  {
   "cell_type": "code",
   "execution_count": 34,
   "id": "bbbd5d6e-012c-4d94-a3c8-0b67213d9ff9",
   "metadata": {},
   "outputs": [],
   "source": [
    "logging.critical(\"The software has stopped running\")"
   ]
  },
  {
   "cell_type": "code",
   "execution_count": 35,
   "id": "8a6a7624-2b54-4630-a5c9-0d280f02f212",
   "metadata": {},
   "outputs": [],
   "source": [
    "logging.shutdown()"
   ]
  },
  {
   "cell_type": "code",
   "execution_count": 37,
   "id": "dd5301fa-a08f-43ac-84f0-33741f200c7d",
   "metadata": {},
   "outputs": [],
   "source": [
    "#NOSET level is not used\n",
    "#1 ) DEBUG >> lowest level of logging. Used to give detailed information of any variable,msg,very helpful to debug \n",
    "#2 ) INFO>> this is used to convey that the code is working as expected \n",
    "#    example: \"Data Analysis is completed\"\n",
    "#3 ) WARNING>> Used to indicate that something unexpected happened or potential issue in the code\n",
    "#4 ) ERROR>> Serious problem with some function\n",
    "#5 ) CRITICAL >> Termination of program / code or software\n",
    "\n",
    "#The above level of logging is executed in the same order >> debug being lowest priority and critical being highest priority\n",
    "#While defining level in lloggin.basicConfig from that level the msgs or logs will be logged or in other words the log level priority will start from that level which is used to initialize the logging\n",
    "#if you initilize with warning then only warning , error and critical msgs will be logged. Debug and info will not be logged\n",
    "#debug > info > warning > error > critical\n",
    "\n"
   ]
  },
  {
   "cell_type": "code",
   "execution_count": 1,
   "id": "ddf3a488-a783-4f44-87dc-fe74b9b97b0b",
   "metadata": {},
   "outputs": [],
   "source": [
    "import logging\n",
    "logging.basicConfig(filename =\"test_new.log\" , level=logging.DEBUG, format = '%(asctime)s %(message)s')"
   ]
  },
  {
   "cell_type": "code",
   "execution_count": 2,
   "id": "354ce2d1-1471-4103-a4c7-b5ed47b5d206",
   "metadata": {},
   "outputs": [],
   "source": [
    "logging.debug(\"This msg is for debugging\")\n",
    "logging.info(\"This is my info msg\")\n",
    "logging.warning(\"This is my warning msg\")\n",
    "logging.shutdown()"
   ]
  },
  {
   "cell_type": "code",
   "execution_count": 1,
   "id": "87fe4cf4-634e-46ff-a3ed-e87b1d51b419",
   "metadata": {},
   "outputs": [],
   "source": [
    "#you want level name in logs aswell\n",
    "\n",
    "import logging\n",
    "logging.basicConfig(filename =\"test_new1.log\" , level=logging.DEBUG, format = '%(asctime)s %(levelname)s %(message)s')\n",
    "\n",
    "logging.debug(\"This msg is for debugging\")\n",
    "logging.info(\"This is my info msg\")\n",
    "logging.warning(\"This is my warning msg\")\n",
    "logging.shutdown()"
   ]
  },
  {
   "cell_type": "code",
   "execution_count": 1,
   "id": "f29a920e-365c-47fd-ab0b-b7f00cde3471",
   "metadata": {},
   "outputs": [],
   "source": [
    "#use case with example\n",
    "import logging\n",
    "logging.basicConfig(filename =\"program_1.log\" , level=logging.DEBUG, format = '%(asctime)s %(levelname)s %(message)s')\n"
   ]
  },
  {
   "cell_type": "code",
   "execution_count": 2,
   "id": "a575faf6-803a-4b79-8491-9f29af611f0c",
   "metadata": {},
   "outputs": [],
   "source": [
    "#write a program to seperate the integer and string in two list seperately\n",
    "l = [1,\"hello\",[2,\"world\"],4,[3, \"python\"]]"
   ]
  },
  {
   "cell_type": "code",
   "execution_count": 3,
   "id": "cca16f37-be73-490a-bc36-695c29193036",
   "metadata": {},
   "outputs": [
    {
     "data": {
      "text/plain": [
       "[1, 'hello', [2, 'world'], 4, [3, 'python']]"
      ]
     },
     "execution_count": 3,
     "metadata": {},
     "output_type": "execute_result"
    }
   ],
   "source": [
    "l"
   ]
  },
  {
   "cell_type": "code",
   "execution_count": 13,
   "id": "72ab4dd6-d06f-4824-a5a8-15c6d551d3c5",
   "metadata": {},
   "outputs": [],
   "source": [
    "l1_int = []\n",
    "l2_str = []\n",
    "for i in l:\n",
    "    logging.info(f\"Processing each element {i}\")\n",
    "\n",
    "    if type(i) == list:\n",
    "        for j in i:\n",
    "            logging.info(f\"Processing sub-list element : {j}\")\n",
    "            if type(j) == int:\n",
    "                l1_int.append(j)\n",
    "            else:\n",
    "                l2_str.append(j)\n",
    "    elif type(i) == int:\n",
    "        l1_int.append(i)\n",
    "    else:\n",
    "        l2_str.append(i)\n",
    "logging.info(f\"The result is : {l1_int} , {l2_str}\")\n",
    "logging.shutdown()          \n",
    "                        "
   ]
  },
  {
   "cell_type": "code",
   "execution_count": 1,
   "id": "c0d30056-a12d-4c77-9a4c-0027a1efadbe",
   "metadata": {},
   "outputs": [],
   "source": [
    "#try to write another program which find a prime number from a given list of numbers and use logging\n",
    "\n",
    "import logging\n",
    "\n",
    "logging.basicConfig(filename = \"program_2.log\", level=logging.INFO ,format = '%(levelname)s %(message)s')\n",
    "\n",
    "l = [3, 4, 7, 10, 11, 13, 15, 17, 20]\n",
    "\n",
    "prime_list = []\n",
    "\n",
    "for i in l:\n",
    "    logging.info(f\"Processing element: {i}\")\n",
    "\n",
    "    if type(i) == int:\n",
    "        if i > 1:\n",
    "            for j in range(2, i):\n",
    "                if i % j == 0:\n",
    "                    logging.info(f\"{i} is divisible by {j}, not a prime.\")\n",
    "                    break\n",
    "            else:\n",
    "                logging.info(f\"{i} is a prime number.\")\n",
    "                prime_list.append(i)\n",
    "        else:\n",
    "            logging.info(f\"{i} is not a prime number (less than 2).\")\n",
    "    else:\n",
    "        logging.info(f\"Skipping non-integer element: {i}\")\n",
    "\n",
    "logging.info(f\"The prime numbers from the list are: {prime_list}\")\n",
    "logging.shutdown()\n"
   ]
  },
  {
   "cell_type": "code",
   "execution_count": null,
   "id": "8991d804-c39d-4bf4-8d4c-f80590e27fa0",
   "metadata": {},
   "outputs": [],
   "source": []
  }
 ],
 "metadata": {
  "kernelspec": {
   "display_name": "Python [conda env:base] *",
   "language": "python",
   "name": "conda-base-py"
  },
  "language_info": {
   "codemirror_mode": {
    "name": "ipython",
    "version": 3
   },
   "file_extension": ".py",
   "mimetype": "text/x-python",
   "name": "python",
   "nbconvert_exporter": "python",
   "pygments_lexer": "ipython3",
   "version": "3.13.5"
  }
 },
 "nbformat": 4,
 "nbformat_minor": 5
}

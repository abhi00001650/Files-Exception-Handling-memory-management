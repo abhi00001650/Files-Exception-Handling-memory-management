{
 "cells": [
  {
   "cell_type": "code",
   "execution_count": 8,
   "id": "4f45f6d4-da8d-491e-9573-016f5d674860",
   "metadata": {},
   "outputs": [
    {
     "data": {
      "text/plain": [
       "\"\\nCharacter Meaning\\n--------- ---------------------------------------------------------------\\n'r'       open for reading (default)\\n'w'       open for writing, truncating the file first\\n'x'       create a new file and open it for writing\\n'a'       open for writing, appending to the end of the file if it exists\\n'b'       binary mode\\n't'       text mode (default)\\n'+'       open a disk file for updating (reading and writing\\n\""
      ]
     },
     "execution_count": 8,
     "metadata": {},
     "output_type": "execute_result"
    }
   ],
   "source": [
    "\"\"\"\n",
    "Character Meaning\n",
    "--------- ---------------------------------------------------------------\n",
    "'r'       open for reading (default)\n",
    "'w'       open for writing, truncating the file first\n",
    "'x'       create a new file and open it for writing\n",
    "'a'       open for writing, appending to the end of the file if it exists\n",
    "'b'       binary mode\n",
    "'t'       text mode (default)\n",
    "'+'       open a disk file for updating (reading and writing\n",
    "\"\"\""
   ]
  },
  {
   "cell_type": "code",
   "execution_count": 9,
   "id": "595f6c24-0d2f-4921-96b8-d60bcd2f01d7",
   "metadata": {},
   "outputs": [
    {
     "data": {
      "text/plain": [
       "<_io.TextIOWrapper name='files.txt' mode='r' encoding='cp1252'>"
      ]
     },
     "execution_count": 9,
     "metadata": {},
     "output_type": "execute_result"
    }
   ],
   "source": [
    "open(\"files.txt\", 'r' ) #if no file , it will throw erroR"
   ]
  },
  {
   "cell_type": "code",
   "execution_count": 10,
   "id": "aff31cbb-2736-49a2-9f9d-27b5c4ee8319",
   "metadata": {},
   "outputs": [],
   "source": [
    "file = open(\"files.txt\", \"w\") # w means write mode , if the file is not there it will create the file .txt and then read it"
   ]
  },
  {
   "cell_type": "code",
   "execution_count": 11,
   "id": "551ea09a-d5d7-4870-bd48-b7b778ee3e23",
   "metadata": {},
   "outputs": [
    {
     "data": {
      "text/plain": [
       "43"
      ]
     },
     "execution_count": 11,
     "metadata": {},
     "output_type": "execute_result"
    }
   ],
   "source": [
    "file.write(\"Hello This is my first line in my text file\") # number below is the number of bytes you have written"
   ]
  },
  {
   "cell_type": "code",
   "execution_count": null,
   "id": "4601c8f4-a8b0-46cf-9bf1-c9f9bd03f3fc",
   "metadata": {},
   "outputs": [],
   "source": [
    "#as of now yif you open the written file you will not see anything like text in file the reason is\n",
    "# to see you have to close the file"
   ]
  },
  {
   "cell_type": "code",
   "execution_count": 12,
   "id": "55212f99-6e8c-4b43-a3b8-d9ab7474b932",
   "metadata": {},
   "outputs": [],
   "source": [
    "file.close()"
   ]
  },
  {
   "cell_type": "code",
   "execution_count": 14,
   "id": "9fbce1c0-51d8-4862-8e75-b11bb3f5bb1e",
   "metadata": {},
   "outputs": [
    {
     "data": {
      "text/plain": [
       "<_io.TextIOWrapper name='files.txt' mode='w' encoding='cp1252'>"
      ]
     },
     "execution_count": 14,
     "metadata": {},
     "output_type": "execute_result"
    }
   ],
   "source": [
    "file #file attributes"
   ]
  },
  {
   "cell_type": "code",
   "execution_count": 21,
   "id": "593f4983-396f-4104-a89f-2c008733a59d",
   "metadata": {},
   "outputs": [
    {
     "data": {
      "text/plain": [
       "True"
      ]
     },
     "execution_count": 21,
     "metadata": {},
     "output_type": "execute_result"
    }
   ],
   "source": [
    "file.closed # if file closed it will return true else false"
   ]
  },
  {
   "cell_type": "code",
   "execution_count": 17,
   "id": "104b1ff5-42f2-4c4b-bdf2-52295b2a012f",
   "metadata": {},
   "outputs": [],
   "source": [
    "file = open(\"files.txt\", 'r' )"
   ]
  },
  {
   "cell_type": "code",
   "execution_count": 18,
   "id": "b4381939-4d3d-42d3-90d7-ad01bbe99545",
   "metadata": {},
   "outputs": [
    {
     "data": {
      "text/plain": [
       "False"
      ]
     },
     "execution_count": 18,
     "metadata": {},
     "output_type": "execute_result"
    }
   ],
   "source": [
    "file.closed"
   ]
  },
  {
   "cell_type": "code",
   "execution_count": 19,
   "id": "a9e843a8-717f-416a-9bd3-ce0e8cb930cf",
   "metadata": {},
   "outputs": [],
   "source": [
    "file.close()"
   ]
  },
  {
   "cell_type": "code",
   "execution_count": 20,
   "id": "613158ff-ef49-4b19-9789-b15085438d6c",
   "metadata": {},
   "outputs": [
    {
     "data": {
      "text/plain": [
       "True"
      ]
     },
     "execution_count": 20,
     "metadata": {},
     "output_type": "execute_result"
    }
   ],
   "source": [
    "file.closed"
   ]
  },
  {
   "cell_type": "code",
   "execution_count": 22,
   "id": "7df0925a-9081-4ac0-ba14-f3031ba38cd5",
   "metadata": {},
   "outputs": [
    {
     "data": {
      "text/plain": [
       "'files.txt'"
      ]
     },
     "execution_count": 22,
     "metadata": {},
     "output_type": "execute_result"
    }
   ],
   "source": [
    "file.name"
   ]
  },
  {
   "cell_type": "code",
   "execution_count": 23,
   "id": "ac51cb7c-af60-4d3b-b802-37011bd8e3c5",
   "metadata": {},
   "outputs": [
    {
     "data": {
      "text/plain": [
       "'r'"
      ]
     },
     "execution_count": 23,
     "metadata": {},
     "output_type": "execute_result"
    }
   ],
   "source": [
    "file.mode"
   ]
  },
  {
   "cell_type": "code",
   "execution_count": 24,
   "id": "ca9d4ac2-cb8b-4de4-94d6-f6f062c812c6",
   "metadata": {},
   "outputs": [
    {
     "data": {
      "text/plain": [
       "True"
      ]
     },
     "execution_count": 24,
     "metadata": {},
     "output_type": "execute_result"
    }
   ],
   "source": [
    "file.closed"
   ]
  },
  {
   "cell_type": "code",
   "execution_count": 26,
   "id": "c4ca1f5c-c5e6-4098-8424-f5f1a29fbb47",
   "metadata": {},
   "outputs": [
    {
     "ename": "ValueError",
     "evalue": "I/O operation on closed file.",
     "output_type": "error",
     "traceback": [
      "\u001b[1;31m---------------------------------------------------------------------------\u001b[0m",
      "\u001b[1;31mValueError\u001b[0m                                Traceback (most recent call last)",
      "Cell \u001b[1;32mIn[26], line 1\u001b[0m\n\u001b[1;32m----> 1\u001b[0m file\u001b[38;5;241m.\u001b[39mwrite(\u001b[38;5;124m\"\u001b[39m\u001b[38;5;124mThis is second line\u001b[39m\u001b[38;5;124m\"\u001b[39m)\n",
      "\u001b[1;31mValueError\u001b[0m: I/O operation on closed file."
     ]
    }
   ],
   "source": [
    "file.write(\"This is second line\") # will not be executes throws error >> file is closed you cannot write anything in closed file"
   ]
  },
  {
   "cell_type": "code",
   "execution_count": 31,
   "id": "6033adfc-3881-42c6-8584-d64a376b7dff",
   "metadata": {},
   "outputs": [],
   "source": [
    "file = open(\"files.txt\", 'w' ) # it will (truncate) delete aall earlier content and make a fresh file.txt"
   ]
  },
  {
   "cell_type": "code",
   "execution_count": 32,
   "id": "6f312a28-fc1a-4ee4-8c51-caa2ebccd112",
   "metadata": {},
   "outputs": [],
   "source": [
    "file.close()"
   ]
  },
  {
   "cell_type": "code",
   "execution_count": 35,
   "id": "e40db806-cae6-49ec-9f3a-4e34df47467c",
   "metadata": {},
   "outputs": [],
   "source": [
    "file = open(\"files.txt\", 'w' ) \n",
    "file.write(\"this is my first line\\n\")\n",
    "file.write(\"this is my second line\\n\")\n",
    "file.write(\"this is my third line\\n\")\n",
    "file.write(\"this is my fourth line\\n\")\n",
    "file.close()"
   ]
  },
  {
   "cell_type": "code",
   "execution_count": 36,
   "id": "261ab2e5-d723-4891-ab9a-921b65596f18",
   "metadata": {},
   "outputs": [
    {
     "data": {
      "text/plain": [
       "22"
      ]
     },
     "execution_count": 36,
     "metadata": {},
     "output_type": "execute_result"
    }
   ],
   "source": [
    "file = open(\"files.txt\", 'w' ) \n",
    "file.write(\"this is my first line\\n\") # all earlier content will be deleted"
   ]
  },
  {
   "cell_type": "code",
   "execution_count": 37,
   "id": "75cae050-0147-424b-bf44-80e1b0080ea8",
   "metadata": {},
   "outputs": [],
   "source": [
    "file.close()"
   ]
  },
  {
   "cell_type": "code",
   "execution_count": 38,
   "id": "556d049a-ec7e-4775-a598-770b41fbe2c7",
   "metadata": {},
   "outputs": [],
   "source": [
    "file = open(\"files.txt\", 'w' ) \n",
    "file.write(\"this is my first line\\n\")\n",
    "file.write(\"this is my second line\\n\")\n",
    "file.write(\"this is my third line\\n\")\n",
    "file.write(\"this is my fourth line\\n\")\n",
    "file.close()"
   ]
  },
  {
   "cell_type": "code",
   "execution_count": 39,
   "id": "17d7736c-625a-4cff-9c8b-19ce0f98844a",
   "metadata": {},
   "outputs": [],
   "source": [
    "file = open(\"files.txt\", 'a' )# 'a'>> append mode\n",
    "file.write(\"this is my fifth line\\n\")\n",
    "file.close()"
   ]
  },
  {
   "cell_type": "code",
   "execution_count": 40,
   "id": "80a790ba-42b3-4d55-b0b0-5ca81ac19964",
   "metadata": {},
   "outputs": [],
   "source": [
    "file = open(\"files.txt\" , 'r') #'r'>>    open for reading (default)"
   ]
  },
  {
   "cell_type": "code",
   "execution_count": 41,
   "id": "dc848d3c-19c9-423b-be25-e720227136e4",
   "metadata": {},
   "outputs": [
    {
     "ename": "UnsupportedOperation",
     "evalue": "not writable",
     "output_type": "error",
     "traceback": [
      "\u001b[1;31m---------------------------------------------------------------------------\u001b[0m",
      "\u001b[1;31mUnsupportedOperation\u001b[0m                      Traceback (most recent call last)",
      "Cell \u001b[1;32mIn[41], line 1\u001b[0m\n\u001b[1;32m----> 1\u001b[0m file\u001b[38;5;241m.\u001b[39mwrite(\u001b[38;5;124m\"\u001b[39m\u001b[38;5;124mThis is another line\u001b[39m\u001b[38;5;124m\"\u001b[39m)\n",
      "\u001b[1;31mUnsupportedOperation\u001b[0m: not writable"
     ]
    }
   ],
   "source": [
    "file.write(\"This is another line\")"
   ]
  },
  {
   "cell_type": "code",
   "execution_count": 42,
   "id": "45991024-b6ac-4b1d-ac06-c619fe0bde40",
   "metadata": {},
   "outputs": [
    {
     "data": {
      "text/plain": [
       "<_io.TextIOWrapper name='files.txt' mode='r' encoding='cp1252'>"
      ]
     },
     "execution_count": 42,
     "metadata": {},
     "output_type": "execute_result"
    }
   ],
   "source": [
    "file"
   ]
  },
  {
   "cell_type": "code",
   "execution_count": 55,
   "id": "a776b141-010e-4a0c-bfe0-136c198d1284",
   "metadata": {},
   "outputs": [
    {
     "name": "stdout",
     "output_type": "stream",
     "text": [
      "this is my first line\n",
      "\n",
      "this is my second line\n",
      "\n",
      "this is my third line\n",
      "\n",
      "this is my fourth line\n",
      "\n",
      "this is my fifth line\n",
      "\n"
     ]
    }
   ],
   "source": [
    "#WAYS OF PRINTING LINES:\n",
    "for i in file:\n",
    "    print(i)"
   ]
  },
  {
   "cell_type": "code",
   "execution_count": 47,
   "id": "fac55c29-372c-409c-bcbd-5779808c1434",
   "metadata": {},
   "outputs": [
    {
     "name": "stdout",
     "output_type": "stream",
     "text": [
      "\n"
     ]
    }
   ],
   "source": [
    "print(file.read()) # here the pointer/cursor is at last position so we get empty list"
   ]
  },
  {
   "cell_type": "code",
   "execution_count": 48,
   "id": "ee7c967f-4aa4-472d-93ec-33bcf1253c43",
   "metadata": {},
   "outputs": [
    {
     "data": {
      "text/plain": [
       "117"
      ]
     },
     "execution_count": 48,
     "metadata": {},
     "output_type": "execute_result"
    }
   ],
   "source": [
    "file.tell() # it tells the current position of the cursor"
   ]
  },
  {
   "cell_type": "code",
   "execution_count": 49,
   "id": "0edfbedf-67d4-4b3e-b984-c579cf3b8fef",
   "metadata": {},
   "outputs": [
    {
     "data": {
      "text/plain": [
       "0"
      ]
     },
     "execution_count": 49,
     "metadata": {},
     "output_type": "execute_result"
    }
   ],
   "source": [
    "file.seek(0) # cursor comes to 0 positon"
   ]
  },
  {
   "cell_type": "code",
   "execution_count": 51,
   "id": "52a2b4c5-d9e8-43a1-9068-b4c0d5bd1632",
   "metadata": {},
   "outputs": [
    {
     "name": "stdout",
     "output_type": "stream",
     "text": [
      "this is my first line\n",
      "\n"
     ]
    }
   ],
   "source": [
    "f = open(\"files.txt\" , 'r')\n",
    "print(f.readline()) # only reads the first line\n",
    "f.close()"
   ]
  },
  {
   "cell_type": "code",
   "execution_count": 52,
   "id": "135fbae4-de87-49f5-be7d-ad580df36b35",
   "metadata": {},
   "outputs": [
    {
     "name": "stdout",
     "output_type": "stream",
     "text": [
      "this is my first line\n",
      "this is my second line\n",
      "this is my third line\n",
      "this is my fourth line\n",
      "this is my fifth line\n",
      "\n"
     ]
    }
   ],
   "source": [
    "f = open(\"files.txt\" , 'r')\n",
    "f.seek(0) # brings the cursor at the start of the point\n",
    "print(f.read()) # reads everything from the start\n",
    "f.close()"
   ]
  },
  {
   "cell_type": "code",
   "execution_count": 54,
   "id": "2ee280c1-4ee5-4388-b02a-d40ed34bb85a",
   "metadata": {},
   "outputs": [
    {
     "name": "stdout",
     "output_type": "stream",
     "text": [
      "['this is my first line\\n', 'this is my second line\\n', 'this is my third line\\n', 'this is my fourth line\\n', 'this is my fifth line\\n']\n"
     ]
    }
   ],
   "source": [
    "f = open(\"files.txt\" , 'r')\n",
    "print(f.readlines()) # all lines will the element of the list\n",
    "f.close()"
   ]
  },
  {
   "cell_type": "code",
   "execution_count": 65,
   "id": "2bd98ff5-8be2-4a70-8829-cabcdcb7c446",
   "metadata": {},
   "outputs": [
    {
     "name": "stderr",
     "output_type": "stream",
     "text": [
      "'pwd' is not recognized as an internal or external command,\n",
      "operable program or batch file.\n"
     ]
    }
   ],
   "source": [
    "#PRESENT WORKING DIRECTORY\n",
    "!pwd"
   ]
  },
  {
   "cell_type": "code",
   "execution_count": 104,
   "id": "c553a08e-3446-40a5-b147-292a0ef769c7",
   "metadata": {},
   "outputs": [],
   "source": [
    "import os"
   ]
  },
  {
   "cell_type": "code",
   "execution_count": 105,
   "id": "264640bf-62ce-4420-9de1-a0271f390f45",
   "metadata": {},
   "outputs": [
    {
     "data": {
      "text/plain": [
       "'C:\\\\Users\\\\kumar'"
      ]
     },
     "execution_count": 105,
     "metadata": {},
     "output_type": "execute_result"
    }
   ],
   "source": [
    "os.getcwd() #gets current working directory"
   ]
  },
  {
   "cell_type": "code",
   "execution_count": 106,
   "id": "f338ca54-f861-4f69-aef2-6b47eb269a46",
   "metadata": {},
   "outputs": [
    {
     "name": "stdout",
     "output_type": "stream",
     "text": [
      " Volume in drive C is OS\n",
      " Volume Serial Number is 72BF-084F\n",
      "\n",
      " Directory of C:\\Users\\kumar\n",
      "\n",
      "06/10/2025  01:11    <DIR>          .\n",
      "14/07/2025  15:54    <DIR>          ..\n",
      "31/08/2025  14:32    <DIR>          .anaconda\n",
      "02/09/2025  14:18    <DIR>          .conda\n",
      "31/08/2025  14:32                25 .condarc\n",
      "31/08/2025  14:31    <DIR>          .continuum\n",
      "06/10/2025  00:26    <DIR>          .ipynb_checkpoints\n",
      "03/09/2025  09:34    <DIR>          .ipython\n",
      "06/10/2025  00:27    <DIR>          .jupyter\n",
      "06/10/2025  00:27    <DIR>          .matplotlib\n",
      "06/10/2025  00:31    <DIR>          .virtual_documents\n",
      "22/08/2025  08:10    <DIR>          .vscode\n",
      "06/10/2025  01:06    <DIR>          1\n",
      "31/08/2025  14:33    <DIR>          anaconda_projects\n",
      "31/08/2025  14:33    <DIR>          anaconda3\n",
      "01/10/2025  14:19    <DIR>          ansel\n",
      "30/09/2025  22:38            11,045 ClassandStaticmethod.ipynb\n",
      "22/08/2025  09:58             1,094 Conditions.java\n",
      "24/02/2025  19:00    <DIR>          Contacts\n",
      "16/09/2025  23:16            21,114 DataTypesandStructureAssignment.ipynb\n",
      "24/06/2025  02:48    <DIR>          Documents\n",
      "05/10/2025  15:12    <DIR>          Downloads\n",
      "24/02/2025  19:00    <DIR>          Favorites\n",
      "06/10/2025  00:44               117 files.txt\n",
      "22/08/2025  12:50               725 Hello.java\n",
      "29/09/2025  22:58            36,583 Inheritance&Abstraction.ipynb\n",
      "24/02/2025  19:00    <DIR>          Links\n",
      "22/08/2025  12:01               864 Loops.java\n",
      "22/08/2025  08:18               175 Main.java\n",
      "24/02/2025  19:00    <DIR>          Music\n",
      "04/10/2025  15:40            29,570 myDECORATORS.ipynb\n",
      "01/10/2025  20:33            17,581 MYDunderMethods.ipynb\n",
      "06/10/2025  01:11            28,644 MYFilesHandlingBasics.ipynb\n",
      "30/09/2025  21:53            44,047 MYPolymorphism&Encapsulation.ipynb\n",
      "16/09/2025  21:44            24,599 MYpracDictionarypython.ipynb\n",
      "11/09/2025  09:44            20,148 Mypythonpractice.ipynb\n",
      "16/09/2025  08:47            30,915 MYTuplesandsets.ipynb\n",
      "10/09/2025  13:26                 0 mywork.ipynb\n",
      "10/09/2025  19:22            13,823 Myworkbasic.ipynb\n",
      "20/09/2025  15:48            46,743 MyworkFunctions.ipynb\n",
      "20/09/2025  18:22            18,907 MyWorkIteratorsandGenrators.ipynb\n",
      "21/09/2025  18:50            31,633 MyworkLambdaMapFilterReduce.ipynb\n",
      "29/09/2025  11:23            40,291 MyworkOOPS.ipynb\n",
      "05/10/2025  03:27    <DIR>          OneDrive\n",
      "22/08/2025  12:26               846 Prime.java\n",
      "29/09/2025  17:07            72,430 python_induction_notebook.ipynb\n",
      "15/09/2025  17:04            41,771 pythonlistpractice.ipynb\n",
      "27/09/2025  08:01                21 sample.txt\n",
      "24/02/2025  19:00    <DIR>          Saved Games\n",
      "24/02/2025  19:00    <DIR>          Searches\n",
      "24/02/2025  19:00    <DIR>          Videos\n",
      "              26 File(s)        533,711 bytes\n",
      "              25 Dir(s)  309,165,064,192 bytes free\n"
     ]
    }
   ],
   "source": [
    "ls"
   ]
  },
  {
   "cell_type": "code",
   "execution_count": 72,
   "id": "5737d383-c37a-43ac-b578-b3e33d6d4733",
   "metadata": {},
   "outputs": [
    {
     "data": {
      "text/plain": [
       "117"
      ]
     },
     "execution_count": 72,
     "metadata": {},
     "output_type": "execute_result"
    }
   ],
   "source": [
    "os.path.getsize(\"files.txt\") # gets size of the file"
   ]
  },
  {
   "cell_type": "code",
   "execution_count": 73,
   "id": "1cd3cf19-ec2a-4f50-b72e-e7943da36aa7",
   "metadata": {},
   "outputs": [],
   "source": [
    "os.mkdir(\"test\")"
   ]
  },
  {
   "cell_type": "code",
   "execution_count": 74,
   "id": "1ccf623e-a711-48fa-bec6-d314904aa6f5",
   "metadata": {},
   "outputs": [],
   "source": [
    "os.mkdir(\"test/test1\")"
   ]
  },
  {
   "cell_type": "code",
   "execution_count": 102,
   "id": "1c850fe5-b335-4ffa-9cd6-dc1d60fd3c32",
   "metadata": {},
   "outputs": [
    {
     "ename": "FileExistsError",
     "evalue": "[WinError 183] Cannot create a file when that file already exists: '1/2'",
     "output_type": "error",
     "traceback": [
      "\u001b[1;31m---------------------------------------------------------------------------\u001b[0m",
      "\u001b[1;31mFileExistsError\u001b[0m                           Traceback (most recent call last)",
      "Cell \u001b[1;32mIn[102], line 1\u001b[0m\n\u001b[1;32m----> 1\u001b[0m os\u001b[38;5;241m.\u001b[39mmkdir(\u001b[38;5;124m\"\u001b[39m\u001b[38;5;124m1/2\u001b[39m\u001b[38;5;124m\"\u001b[39m)\n",
      "\u001b[1;31mFileExistsError\u001b[0m: [WinError 183] Cannot create a file when that file already exists: '1/2'"
     ]
    }
   ],
   "source": [
    "os.mkdir(\"1/2\") #it will throw error because 1 is not made first"
   ]
  },
  {
   "cell_type": "code",
   "execution_count": 103,
   "id": "bc8ccf6f-5da5-4a0b-8eb3-5a309e317f66",
   "metadata": {},
   "outputs": [
    {
     "ename": "FileExistsError",
     "evalue": "[WinError 183] Cannot create a file when that file already exists: '1/2/3'",
     "output_type": "error",
     "traceback": [
      "\u001b[1;31m---------------------------------------------------------------------------\u001b[0m",
      "\u001b[1;31mFileExistsError\u001b[0m                           Traceback (most recent call last)",
      "Cell \u001b[1;32mIn[103], line 1\u001b[0m\n\u001b[1;32m----> 1\u001b[0m os\u001b[38;5;241m.\u001b[39mmakedirs(\u001b[38;5;124m\"\u001b[39m\u001b[38;5;124m1/2/3\u001b[39m\u001b[38;5;124m\"\u001b[39m)\n",
      "File \u001b[1;32m~\\anaconda3\\Lib\\os.py:228\u001b[0m, in \u001b[0;36mmakedirs\u001b[1;34m(name, mode, exist_ok)\u001b[0m\n\u001b[0;32m    226\u001b[0m         \u001b[38;5;28;01mreturn\u001b[39;00m\n\u001b[0;32m    227\u001b[0m \u001b[38;5;28;01mtry\u001b[39;00m:\n\u001b[1;32m--> 228\u001b[0m     mkdir(name, mode)\n\u001b[0;32m    229\u001b[0m \u001b[38;5;28;01mexcept\u001b[39;00m \u001b[38;5;167;01mOSError\u001b[39;00m:\n\u001b[0;32m    230\u001b[0m     \u001b[38;5;66;03m# Cannot rely on checking for EEXIST, since the operating system\u001b[39;00m\n\u001b[0;32m    231\u001b[0m     \u001b[38;5;66;03m# could give priority to other errors like EACCES or EROFS\u001b[39;00m\n\u001b[0;32m    232\u001b[0m     \u001b[38;5;28;01mif\u001b[39;00m \u001b[38;5;129;01mnot\u001b[39;00m exist_ok \u001b[38;5;129;01mor\u001b[39;00m \u001b[38;5;129;01mnot\u001b[39;00m path\u001b[38;5;241m.\u001b[39misdir(name):\n",
      "\u001b[1;31mFileExistsError\u001b[0m: [WinError 183] Cannot create a file when that file already exists: '1/2/3'"
     ]
    }
   ],
   "source": [
    "os.makedirs(\"1/2/3\")# creates many directories "
   ]
  },
  {
   "cell_type": "code",
   "execution_count": 79,
   "id": "1ad23bda-1d89-47dc-8d28-7059f4f28016",
   "metadata": {},
   "outputs": [
    {
     "name": "stdout",
     "output_type": "stream",
     "text": [
      " Volume in drive C is OS\n",
      " Volume Serial Number is 72BF-084F\n",
      "\n",
      " Directory of C:\\Users\\kumar\n",
      "\n",
      "06/10/2025  01:06    <DIR>          .\n",
      "14/07/2025  15:54    <DIR>          ..\n",
      "31/08/2025  14:32    <DIR>          .anaconda\n",
      "02/09/2025  14:18    <DIR>          .conda\n",
      "31/08/2025  14:32                25 .condarc\n",
      "31/08/2025  14:31    <DIR>          .continuum\n",
      "06/10/2025  00:26    <DIR>          .ipynb_checkpoints\n",
      "03/09/2025  09:34    <DIR>          .ipython\n",
      "06/10/2025  00:27    <DIR>          .jupyter\n",
      "06/10/2025  00:27    <DIR>          .matplotlib\n",
      "06/10/2025  00:31    <DIR>          .virtual_documents\n",
      "22/08/2025  08:10    <DIR>          .vscode\n",
      "06/10/2025  01:06    <DIR>          1\n",
      "31/08/2025  14:33    <DIR>          anaconda_projects\n",
      "31/08/2025  14:33    <DIR>          anaconda3\n",
      "01/10/2025  14:19    <DIR>          ansel\n",
      "30/09/2025  22:38            11,045 ClassandStaticmethod.ipynb\n",
      "22/08/2025  09:58             1,094 Conditions.java\n",
      "24/02/2025  19:00    <DIR>          Contacts\n",
      "16/09/2025  23:16            21,114 DataTypesandStructureAssignment.ipynb\n",
      "24/06/2025  02:48    <DIR>          Documents\n",
      "05/10/2025  15:12    <DIR>          Downloads\n",
      "24/02/2025  19:00    <DIR>          Favorites\n",
      "06/10/2025  00:44               117 files.txt\n",
      "22/08/2025  12:50               725 Hello.java\n",
      "29/09/2025  22:58            36,583 Inheritance&Abstraction.ipynb\n",
      "24/02/2025  19:00    <DIR>          Links\n",
      "22/08/2025  12:01               864 Loops.java\n",
      "22/08/2025  08:18               175 Main.java\n",
      "24/02/2025  19:00    <DIR>          Music\n",
      "04/10/2025  15:40            29,570 myDECORATORS.ipynb\n",
      "01/10/2025  20:33            17,581 MYDunderMethods.ipynb\n",
      "06/10/2025  01:05            22,858 MYFilesHandlingBasics.ipynb\n",
      "30/09/2025  21:53            44,047 MYPolymorphism&Encapsulation.ipynb\n",
      "16/09/2025  21:44            24,599 MYpracDictionarypython.ipynb\n",
      "11/09/2025  09:44            20,148 Mypythonpractice.ipynb\n",
      "16/09/2025  08:47            30,915 MYTuplesandsets.ipynb\n",
      "10/09/2025  13:26                 0 mywork.ipynb\n",
      "10/09/2025  19:22            13,823 Myworkbasic.ipynb\n",
      "20/09/2025  15:48            46,743 MyworkFunctions.ipynb\n",
      "20/09/2025  18:22            18,907 MyWorkIteratorsandGenrators.ipynb\n",
      "21/09/2025  18:50            31,633 MyworkLambdaMapFilterReduce.ipynb\n",
      "29/09/2025  11:23            40,291 MyworkOOPS.ipynb\n",
      "05/10/2025  03:27    <DIR>          OneDrive\n",
      "22/08/2025  12:26               846 Prime.java\n",
      "29/09/2025  17:07            72,430 python_induction_notebook.ipynb\n",
      "15/09/2025  17:04            41,771 pythonlistpractice.ipynb\n",
      "27/09/2025  08:01                21 sample.txt\n",
      "24/02/2025  19:00    <DIR>          Saved Games\n",
      "24/02/2025  19:00    <DIR>          Searches\n",
      "06/10/2025  01:03    <DIR>          test\n",
      "24/02/2025  19:00    <DIR>          Videos\n",
      "              26 File(s)        527,925 bytes\n",
      "              26 Dir(s)  309,171,970,048 bytes free\n"
     ]
    }
   ],
   "source": [
    "ls"
   ]
  },
  {
   "cell_type": "code",
   "execution_count": 80,
   "id": "0b7a80f1-414a-43c1-8d46-bd87a9c987a5",
   "metadata": {},
   "outputs": [
    {
     "data": {
      "text/plain": [
       "['.anaconda',\n",
       " '.conda',\n",
       " '.condarc',\n",
       " '.continuum',\n",
       " '.ipynb_checkpoints',\n",
       " '.ipython',\n",
       " '.jupyter',\n",
       " '.matplotlib',\n",
       " '.virtual_documents',\n",
       " '.vscode',\n",
       " '1',\n",
       " 'anaconda3',\n",
       " 'anaconda_projects',\n",
       " 'ansel',\n",
       " 'AppData',\n",
       " 'Application Data',\n",
       " 'ClassandStaticmethod.ipynb',\n",
       " 'Conditions.java',\n",
       " 'Contacts',\n",
       " 'Cookies',\n",
       " 'DataTypesandStructureAssignment.ipynb',\n",
       " 'Documents',\n",
       " 'Downloads',\n",
       " 'Favorites',\n",
       " 'files.txt',\n",
       " 'Hello.java',\n",
       " 'Inheritance&Abstraction.ipynb',\n",
       " 'Links',\n",
       " 'Local Settings',\n",
       " 'Loops.java',\n",
       " 'Main.java',\n",
       " 'Music',\n",
       " 'My Documents',\n",
       " 'myDECORATORS.ipynb',\n",
       " 'MYDunderMethods.ipynb',\n",
       " 'MYFilesHandlingBasics.ipynb',\n",
       " 'MYPolymorphism&Encapsulation.ipynb',\n",
       " 'MYpracDictionarypython.ipynb',\n",
       " 'Mypythonpractice.ipynb',\n",
       " 'MYTuplesandsets.ipynb',\n",
       " 'mywork.ipynb',\n",
       " 'Myworkbasic.ipynb',\n",
       " 'MyworkFunctions.ipynb',\n",
       " 'MyWorkIteratorsandGenrators.ipynb',\n",
       " 'MyworkLambdaMapFilterReduce.ipynb',\n",
       " 'MyworkOOPS.ipynb',\n",
       " 'NetHood',\n",
       " 'NTUSER.DAT',\n",
       " 'ntuser.dat.LOG1',\n",
       " 'ntuser.dat.LOG2',\n",
       " 'NTUSER.DAT{71a3e261-f2d8-11ef-82be-f7ef62aaed13}.TxR.0.regtrans-ms',\n",
       " 'NTUSER.DAT{71a3e261-f2d8-11ef-82be-f7ef62aaed13}.TxR.1.regtrans-ms',\n",
       " 'NTUSER.DAT{71a3e261-f2d8-11ef-82be-f7ef62aaed13}.TxR.2.regtrans-ms',\n",
       " 'NTUSER.DAT{71a3e261-f2d8-11ef-82be-f7ef62aaed13}.TxR.blf',\n",
       " 'NTUSER.DAT{71a3e262-f2d8-11ef-82be-f7ef62aaed13}.TM.blf',\n",
       " 'NTUSER.DAT{71a3e262-f2d8-11ef-82be-f7ef62aaed13}.TMContainer00000000000000000001.regtrans-ms',\n",
       " 'NTUSER.DAT{71a3e262-f2d8-11ef-82be-f7ef62aaed13}.TMContainer00000000000000000002.regtrans-ms',\n",
       " 'ntuser.ini',\n",
       " 'OneDrive',\n",
       " 'Prime.java',\n",
       " 'PrintHood',\n",
       " 'pythonlistpractice.ipynb',\n",
       " 'python_induction_notebook.ipynb',\n",
       " 'Recent',\n",
       " 'sample.txt',\n",
       " 'Saved Games',\n",
       " 'Searches',\n",
       " 'SendTo',\n",
       " 'Start Menu',\n",
       " 'Templates',\n",
       " 'test',\n",
       " 'Videos']"
      ]
     },
     "execution_count": 80,
     "metadata": {},
     "output_type": "execute_result"
    }
   ],
   "source": [
    "os.listdir()"
   ]
  },
  {
   "cell_type": "code",
   "execution_count": 95,
   "id": "06647a65-ba1f-4f5e-8c1c-90df4a1dc6a6",
   "metadata": {},
   "outputs": [],
   "source": [
    "os.mkdir(\"Feat\") # made new directory "
   ]
  },
  {
   "cell_type": "code",
   "execution_count": 96,
   "id": "cb54fae9-5777-4917-b54c-d8751dbb20a6",
   "metadata": {},
   "outputs": [],
   "source": [
    "os.rmdir(\"Feat\") # to del one directory withour any content inside it"
   ]
  },
  {
   "cell_type": "code",
   "execution_count": 108,
   "id": "e7eb828b-4ce1-4aad-abb3-746a087fefd7",
   "metadata": {},
   "outputs": [],
   "source": [
    "import shutil\n",
    "shutil.rmtree(\"1\")# it will remove the folder hierarchy"
   ]
  },
  {
   "cell_type": "code",
   "execution_count": 99,
   "id": "346e73a0-f033-4c8a-bdfb-496dfff06832",
   "metadata": {},
   "outputs": [
    {
     "data": {
      "text/plain": [
       "'C:\\\\Users\\\\kumar'"
      ]
     },
     "execution_count": 99,
     "metadata": {},
     "output_type": "execute_result"
    }
   ],
   "source": [
    "os.getcwd()"
   ]
  },
  {
   "cell_type": "code",
   "execution_count": 110,
   "id": "2348c684-be69-4744-ad1e-9e724a30e28f",
   "metadata": {},
   "outputs": [],
   "source": [
    "os.makedirs(\"a/a1\")"
   ]
  },
  {
   "cell_type": "code",
   "execution_count": 111,
   "id": "f113442d-fe09-4438-86a8-be9a4e5dbad1",
   "metadata": {},
   "outputs": [],
   "source": [
    "f = open(\"C:\\\\Users\\\\kumar\\\\a\\\\a1\\\\file.txt\" , 'w')"
   ]
  },
  {
   "cell_type": "code",
   "execution_count": 114,
   "id": "8f1bd9a8-50ee-4a81-b562-4f1d5a7c08c7",
   "metadata": {},
   "outputs": [],
   "source": [
    "#copying the above file in the location >>  C:\\\\Users\\\\kumar\n",
    "#shutil.copy(src , dest)"
   ]
  },
  {
   "cell_type": "code",
   "execution_count": 118,
   "id": "d9d50ec6-5a7e-4a64-84d9-11d1163ad1e4",
   "metadata": {},
   "outputs": [
    {
     "data": {
      "text/plain": [
       "'C:\\\\Users\\\\kumar\\\\file.txt'"
      ]
     },
     "execution_count": 118,
     "metadata": {},
     "output_type": "execute_result"
    }
   ],
   "source": [
    "shutil.copy(\"C:\\\\Users\\\\kumar\\\\a\\\\a1\\\\file.txt\" ,'C:\\\\Users\\\\kumar') #keeps copies and pastes it in the given location"
   ]
  },
  {
   "cell_type": "code",
   "execution_count": 119,
   "id": "31c24f9d-24bb-4172-bfb8-9c0485f0459a",
   "metadata": {},
   "outputs": [],
   "source": [
    "#move a file not a copy\n",
    "os.mkdir(\"file_test\")"
   ]
  },
  {
   "cell_type": "code",
   "execution_count": 128,
   "id": "db210f8c-38b1-42a4-a1e4-f8db9db68653",
   "metadata": {},
   "outputs": [
    {
     "ename": "PermissionError",
     "evalue": "[WinError 32] The process cannot access the file because it is being used by another process: 'C:\\\\Users\\\\kumar\\\\files.txt'",
     "output_type": "error",
     "traceback": [
      "\u001b[1;31m---------------------------------------------------------------------------\u001b[0m",
      "\u001b[1;31mPermissionError\u001b[0m                           Traceback (most recent call last)",
      "File \u001b[1;32m~\\anaconda3\\Lib\\shutil.py:856\u001b[0m, in \u001b[0;36mmove\u001b[1;34m(src, dst, copy_function)\u001b[0m\n\u001b[0;32m    855\u001b[0m \u001b[38;5;28;01mtry\u001b[39;00m:\n\u001b[1;32m--> 856\u001b[0m     os\u001b[38;5;241m.\u001b[39mrename(src, real_dst)\n\u001b[0;32m    857\u001b[0m \u001b[38;5;28;01mexcept\u001b[39;00m \u001b[38;5;167;01mOSError\u001b[39;00m:\n",
      "\u001b[1;31mPermissionError\u001b[0m: [WinError 32] The process cannot access the file because it is being used by another process: 'C:\\\\Users\\\\kumar\\\\files.txt' -> 'C:\\\\Users\\\\kumar\\\\file_test\\\\files.txt'",
      "\nDuring handling of the above exception, another exception occurred:\n",
      "\u001b[1;31mPermissionError\u001b[0m                           Traceback (most recent call last)",
      "Cell \u001b[1;32mIn[128], line 1\u001b[0m\n\u001b[1;32m----> 1\u001b[0m shutil\u001b[38;5;241m.\u001b[39mmove(\u001b[38;5;124m\"\u001b[39m\u001b[38;5;124mC:\u001b[39m\u001b[38;5;130;01m\\\\\u001b[39;00m\u001b[38;5;124mUsers\u001b[39m\u001b[38;5;130;01m\\\\\u001b[39;00m\u001b[38;5;124mkumar\u001b[39m\u001b[38;5;130;01m\\\\\u001b[39;00m\u001b[38;5;124mfiles.txt\u001b[39m\u001b[38;5;124m\"\u001b[39m ,\u001b[38;5;124m'\u001b[39m\u001b[38;5;124mC:\u001b[39m\u001b[38;5;130;01m\\\\\u001b[39;00m\u001b[38;5;124mUsers\u001b[39m\u001b[38;5;130;01m\\\\\u001b[39;00m\u001b[38;5;124mkumar\u001b[39m\u001b[38;5;130;01m\\\\\u001b[39;00m\u001b[38;5;124mfile_test\u001b[39m\u001b[38;5;124m'\u001b[39m)\n",
      "File \u001b[1;32m~\\anaconda3\\Lib\\shutil.py:877\u001b[0m, in \u001b[0;36mmove\u001b[1;34m(src, dst, copy_function)\u001b[0m\n\u001b[0;32m    875\u001b[0m     \u001b[38;5;28;01melse\u001b[39;00m:\n\u001b[0;32m    876\u001b[0m         copy_function(src, real_dst)\n\u001b[1;32m--> 877\u001b[0m         os\u001b[38;5;241m.\u001b[39munlink(src)\n\u001b[0;32m    878\u001b[0m \u001b[38;5;28;01mreturn\u001b[39;00m real_dst\n",
      "\u001b[1;31mPermissionError\u001b[0m: [WinError 32] The process cannot access the file because it is being used by another process: 'C:\\\\Users\\\\kumar\\\\files.txt'"
     ]
    }
   ],
   "source": [
    "shutil.move(\"C:\\\\Users\\\\kumar\\\\files.txt\" ,'C:\\\\Users\\\\kumar\\\\file_test') #moves file not copies"
   ]
  },
  {
   "cell_type": "code",
   "execution_count": 130,
   "id": "8fb49471-e2b8-45e0-864a-66a77a63ea00",
   "metadata": {},
   "outputs": [],
   "source": [
    "#read a file but dont want to close it\n",
    "with open(\"files.txt\" ,'w') as f:\n",
    "    f.write(\"This is my first line\")\n",
    "#with statement ensures that the file is closed properly ioft the block of code is executed properly"
   ]
  },
  {
   "cell_type": "code",
   "execution_count": 131,
   "id": "e8b03e7a-08a0-4886-9148-9858851f2b16",
   "metadata": {},
   "outputs": [
    {
     "name": "stdout",
     "output_type": "stream",
     "text": [
      "This is my first line\n"
     ]
    }
   ],
   "source": [
    "with open(\"files.txt\" , 'r') as f:\n",
    "    line = f.readline()\n",
    "    print(line)"
   ]
  },
  {
   "cell_type": "code",
   "execution_count": null,
   "id": "d5b79b55-0462-40ad-823b-83b0de9e3e20",
   "metadata": {},
   "outputs": [],
   "source": []
  }
 ],
 "metadata": {
  "kernelspec": {
   "display_name": "Python [conda env:base] *",
   "language": "python",
   "name": "conda-base-py"
  },
  "language_info": {
   "codemirror_mode": {
    "name": "ipython",
    "version": 3
   },
   "file_extension": ".py",
   "mimetype": "text/x-python",
   "name": "python",
   "nbconvert_exporter": "python",
   "pygments_lexer": "ipython3",
   "version": "3.13.5"
  }
 },
 "nbformat": 4,
 "nbformat_minor": 5
}

{
 "cells": [
  {
   "cell_type": "code",
   "execution_count": 3,
   "id": "e5210996-a5b9-4163-bfc1-4ea47e4096bc",
   "metadata": {},
   "outputs": [],
   "source": [
    "text_content =\"\"\"\n",
    "example 1\n",
    "example 2\n",
    "example 3\n",
    "\"\"\""
   ]
  },
  {
   "cell_type": "code",
   "execution_count": 4,
   "id": "2d524d4e-ea8a-4d95-a874-8ef8e25df122",
   "metadata": {},
   "outputs": [],
   "source": [
    "with open(\"example.txt\", 'w') as file:\n",
    "    file.write(text_content)"
   ]
  },
  {
   "cell_type": "code",
   "execution_count": 5,
   "id": "c94ec31e-19eb-42de-a367-ba7c7431de9f",
   "metadata": {},
   "outputs": [
    {
     "name": "stdout",
     "output_type": "stream",
     "text": [
      "\n",
      "example 1\n",
      "example 2\n",
      "example 3\n",
      "\n"
     ]
    }
   ],
   "source": [
    "with open(\"example.txt\", 'r') as file:\n",
    "    data = file.read()\n",
    "    print(data)"
   ]
  },
  {
   "cell_type": "code",
   "execution_count": 6,
   "id": "646581f3-00b5-4e5c-8264-285aeb7a2d03",
   "metadata": {},
   "outputs": [],
   "source": [
    "#csv>> comma seperated values files > type of tabular data seperated by comma\n",
    "data = [[\"Name\",\"Course\",\"Fee\"],[\"Abhi\",\"AI\",\"15750\"],[\"Khush\",\"CS\",\"16750\"]]"
   ]
  },
  {
   "cell_type": "code",
   "execution_count": 7,
   "id": "d53049ea-20ec-4c55-b0f2-eb8a54a8ac5c",
   "metadata": {},
   "outputs": [
    {
     "name": "stdout",
     "output_type": "stream",
     "text": [
      "['Name', 'Course', 'Fee']\n",
      "['Abhi', 'AI', '15750']\n",
      "['Khush', 'CS', '16750']\n"
     ]
    }
   ],
   "source": [
    "for i in data:\n",
    "    print(i)"
   ]
  },
  {
   "cell_type": "code",
   "execution_count": 10,
   "id": "f129c89c-1e4d-4ee7-ad79-b5c371813019",
   "metadata": {},
   "outputs": [],
   "source": [
    "import csv\n",
    "with open(\"example_csv.csv\" , \"w\") as f:\n",
    "    w = csv.writer(f)\n",
    "    for i in data:\n",
    "        w.writerow(i)"
   ]
  },
  {
   "cell_type": "code",
   "execution_count": 12,
   "id": "cf2bc70a-48a2-4e7e-838c-e6ed089b70dd",
   "metadata": {},
   "outputs": [
    {
     "name": "stdout",
     "output_type": "stream",
     "text": [
      "['Name', 'Course', 'Fee']\n",
      "[]\n",
      "['Abhi', 'AI', '15750']\n",
      "[]\n",
      "['Khush', 'CS', '16750']\n",
      "[]\n"
     ]
    }
   ],
   "source": [
    "with open(\"example_csv.csv\" , 'r' ) as f:\n",
    "    r = csv.reader(f)\n",
    "    for i in r:\n",
    "        print(i)"
   ]
  },
  {
   "cell_type": "code",
   "execution_count": 17,
   "id": "dc38528a-f89d-40cf-a34a-0bb7db9e1ea5",
   "metadata": {},
   "outputs": [
    {
     "data": {
      "text/plain": [
       "{'name': 'abhi', 'course': 'AI', 'fees': 15750}"
      ]
     },
     "execution_count": 17,
     "metadata": {},
     "output_type": "execute_result"
    }
   ],
   "source": [
    "#HOW TO JSON FILE >> javascript object notation >> key value file\n",
    "data = {\"name\": \"abhi\" ,\n",
    "        \"course\" : \"AI\" ,\n",
    "        \"fees\" : 15750}\n",
    "data"
   ]
  },
  {
   "cell_type": "code",
   "execution_count": 18,
   "id": "6b8a1919-8d72-4077-937b-2fb2a56e4d69",
   "metadata": {},
   "outputs": [
    {
     "data": {
      "text/plain": [
       "dict"
      ]
     },
     "execution_count": 18,
     "metadata": {},
     "output_type": "execute_result"
    }
   ],
   "source": [
    "type(data)"
   ]
  },
  {
   "cell_type": "code",
   "execution_count": 19,
   "id": "d7145578-4899-4259-8003-38b567fced39",
   "metadata": {},
   "outputs": [],
   "source": [
    "import json\n",
    "with open(\"file_json.json\", \"w\") as f:\n",
    "    a = json.dump(data , f)"
   ]
  },
  {
   "cell_type": "code",
   "execution_count": 20,
   "id": "d0f30f9a-b79c-462b-b84e-fca49f18305c",
   "metadata": {},
   "outputs": [
    {
     "name": "stdout",
     "output_type": "stream",
     "text": [
      "{'name': 'abhi', 'course': 'AI', 'fees': 15750}\n"
     ]
    }
   ],
   "source": [
    "with open(\"file_json.json\" , \"r\") as f:\n",
    "    data = json.load(f)\n",
    "print(data)"
   ]
  },
  {
   "cell_type": "code",
   "execution_count": 23,
   "id": "7801c1d9-ed9c-4a4f-91c0-f8fa91e16bde",
   "metadata": {},
   "outputs": [],
   "source": [
    "#write binary data in a file\n",
    "with open(\"test_bin.bin\" , \"wb\") as f:\n",
    "    f.write(b\"\\x48\\x65\\x6c\\x6c\\x6f\")"
   ]
  },
  {
   "cell_type": "code",
   "execution_count": 24,
   "id": "476907e9-1325-479a-9c8a-837f3cdfa9e9",
   "metadata": {},
   "outputs": [
    {
     "name": "stdout",
     "output_type": "stream",
     "text": [
      "b'Hello'\n"
     ]
    }
   ],
   "source": [
    "with open(\"test_bin.bin\" , \"rb\") as f:\n",
    "    print(f.read())"
   ]
  },
  {
   "cell_type": "code",
   "execution_count": 25,
   "id": "7bec8671-2723-496c-9d04-a8a01c60c9ba",
   "metadata": {},
   "outputs": [],
   "source": [
    "#buffered reading and writing\n",
    "#it allows the program to read and write data in chunks:"
   ]
  },
  {
   "cell_type": "code",
   "execution_count": 26,
   "id": "9c3ab2a9-72b1-4141-9a72-2cb8cb39c1bb",
   "metadata": {},
   "outputs": [],
   "source": [
    "import io\n",
    "with open(\"test_buffer.txt\", \"wb\") as f:\n",
    "    file = io.BufferedWriter(f)\n",
    "    file.write(b\"Life is a journey filled with opportunities, challenges, and lessons that shape who we become. Every day brings the chance to grow, discover new perspectives, and strengthen our character. Success is not defined solely by achievements, but also by resilience and the ability to adapt when things do not go as planned. Relationships, kindness, and empathy are equally important, reminding us that human connections add meaning to our path. While the future is uncertain, embracing the present moment with gratitude allows us to find peace and purpose. Ultimately, progress is built through persistence, patience, and continuous self-reflection.\")\n",
    "    file.write(b\"Hello How are you!!\")\n",
    "    file.write(b\"I am studying data science\")\n",
    "    file.flush()"
   ]
  },
  {
   "cell_type": "code",
   "execution_count": 35,
   "id": "1aebd537-5b02-411e-96a7-52d78496ae0c",
   "metadata": {},
   "outputs": [
    {
     "name": "stdout",
     "output_type": "stream",
     "text": [
      "b'Life is a journey filled with opportunities, challenges, and lessons that shape who we become. Every day brings the chance to grow, discover new perspectives, and strengthen our character. Success is not defined solely by achievements, but also by resilience and the ability to adapt when things do not go as planned. Relationships, kindness, and empathy are equally important, reminding us that human connections add meaning to our path. While the future is uncertain, embracing the present moment with gratitude allows us to find peace and purpose. Ultimately, progress is built through persistence, patience, and continuous sel'\n"
     ]
    }
   ],
   "source": [
    "with open(\"test_buffer.txt\", \"rb\") as f:\n",
    "    file = io.BufferedReader(f)\n",
    "    data = file.read(630) # read the first chunk of 100 bytes\n",
    "    print(data)"
   ]
  },
  {
   "cell_type": "code",
   "execution_count": null,
   "id": "fc993089-1f53-4807-b5dd-5b9edb468af8",
   "metadata": {},
   "outputs": [],
   "source": []
  }
 ],
 "metadata": {
  "kernelspec": {
   "display_name": "Python [conda env:base] *",
   "language": "python",
   "name": "conda-base-py"
  },
  "language_info": {
   "codemirror_mode": {
    "name": "ipython",
    "version": 3
   },
   "file_extension": ".py",
   "mimetype": "text/x-python",
   "name": "python",
   "nbconvert_exporter": "python",
   "pygments_lexer": "ipython3",
   "version": "3.13.5"
  }
 },
 "nbformat": 4,
 "nbformat_minor": 5
}

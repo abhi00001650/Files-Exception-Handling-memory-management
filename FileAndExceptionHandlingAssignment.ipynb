{
  "nbformat": 4,
  "nbformat_minor": 0,
  "metadata": {
    "colab": {
      "provenance": []
    },
    "kernelspec": {
      "name": "python3",
      "display_name": "Python 3"
    },
    "language_info": {
      "name": "python"
    }
  },
  "cells": [
    {
      "cell_type": "markdown",
      "source": [
        "**ASSIGNMENT QUESTION/ANSWERS**"
      ],
      "metadata": {
        "id": "4otJbVgrdtyM"
      }
    },
    {
      "cell_type": "markdown",
      "source": [
        "1)  What is the difference between interpreted and compiled languages?\n",
        "-  Interpreted language - Execute code line by line using an interpreter ,results in easier debugging.\n",
        "-  Compiled Language - First translated into machine code before execution , results in faster performance."
      ],
      "metadata": {
        "id": "jpChdPYQd1Mb"
      }
    },
    {
      "cell_type": "markdown",
      "source": [
        "2) What is exception handling in Python?\n",
        "-  It is a mechanism to handle runtime errors by using - try,except,else,finally . Prevnts program crashes and allows alternative execution paths when errors occur.\n"
      ],
      "metadata": {
        "id": "oiTwWEQcea3M"
      }
    },
    {
      "cell_type": "markdown",
      "source": [
        "3) What is the purpose of the finally block in exception handling?\n",
        "-  It is used to execute cleanup code - like closing files . It gets executed always irrespective of exception occured or not."
      ],
      "metadata": {
        "id": "h40aUhAle38T"
      }
    },
    {
      "cell_type": "markdown",
      "source": [
        "4) What is logging in Python?\n",
        "-  Process of recording events or messages that happen during program execution . It provides flexible framework to track and record errors."
      ],
      "metadata": {
        "id": "SleKf4A8fPli"
      }
    },
    {
      "cell_type": "markdown",
      "source": [
        "5) What is the significance of the __del__ method in Python?\n",
        "-  It is a method used for cleanup actions like closing connections or releasing resources.\n"
      ],
      "metadata": {
        "id": "tlolFqJTfjKj"
      }
    },
    {
      "cell_type": "markdown",
      "source": [
        "6)  What is the difference between import and from ... import in Python?\n",
        "-  import module - imports entire module\n",
        "-  from module import function - imports specific items from the module"
      ],
      "metadata": {
        "id": "elB_MVKDfx0K"
      }
    },
    {
      "cell_type": "markdown",
      "source": [
        "7)  How can you handle multiple exceptions in Python?\n",
        "-  Yes , we can handle multiple exceptions by using multiple except blocks."
      ],
      "metadata": {
        "id": "0xo7h-jGgCyT"
      }
    },
    {
      "cell_type": "markdown",
      "source": [
        "8) What is the purpose of the with statement when handling files in Python?\n",
        "-  It ensures that a file is properly closed after its block of code is exectued."
      ],
      "metadata": {
        "id": "AU3plotegWGB"
      }
    },
    {
      "cell_type": "markdown",
      "source": [
        "9) What is the difference between multithreading and multiprocessing?\n",
        "-  Multithreading - it uses multiple threads within the same process\n",
        "-  Multiprocessing - it uses multiple processes each with its own memory space"
      ],
      "metadata": {
        "id": "pt3RpWiwgjlD"
      }
    },
    {
      "cell_type": "markdown",
      "source": [
        "10) What are the advantages of using logging in a program?\n",
        "-  It helps in : Debugging and monitoring , recording errors and activites , maintaining logs for future analysis"
      ],
      "metadata": {
        "id": "1TjOGcbmg0dr"
      }
    },
    {
      "cell_type": "markdown",
      "source": [
        "11) What is memory management in Python?\n",
        " -  It involves allocating and deallocating memory automatically through its private heap , managed by python memory manager ."
      ],
      "metadata": {
        "id": "ioO-9qEIhEva"
      }
    },
    {
      "cell_type": "markdown",
      "source": [
        "12) What are the basic steps involved in exception handling in Python?\n",
        "-  Place risky code in try block\n",
        "-  Catch exceptions using exception\n",
        "-  Optionally execute else if no exception occurs\n",
        "-  use finally for cleanup operations"
      ],
      "metadata": {
        "id": "8reOmB4shTrx"
      }
    },
    {
      "cell_type": "markdown",
      "source": [
        "13)  Why is memory management important in Python?\n",
        "-  It ensures optimal performance, prevent memory leaks , improves program stability ."
      ],
      "metadata": {
        "id": "jqsZasOhhq06"
      }
    },
    {
      "cell_type": "markdown",
      "source": [
        "14) What is the role of try and except in exception handling?\n",
        "-  try - contains code that might have an error\n",
        "-  except - defines how to handle specific exceptions if they occur"
      ],
      "metadata": {
        "id": "noRi6brah73q"
      }
    },
    {
      "cell_type": "markdown",
      "source": [
        "15)  How does Python's garbage collection system work?\n",
        "-  It use reference counting and a cyclic garbage collector to free unused memory."
      ],
      "metadata": {
        "id": "34OeCrhUiJ-q"
      }
    },
    {
      "cell_type": "markdown",
      "source": [
        "16)  What is the purpose of the else block in exception handling?\n",
        "-  It gets executed when no exceptions occur in the try block , used for code that should run only when no exceptions occur."
      ],
      "metadata": {
        "id": "VZVHyDaCiU4h"
      }
    },
    {
      "cell_type": "markdown",
      "source": [
        "17) What are the common logging levels in Python?\n",
        "-  DEBUG , INFO , WARNING ,ERROR ,CRITICAL"
      ],
      "metadata": {
        "id": "OhbZnTb9iqQa"
      }
    },
    {
      "cell_type": "markdown",
      "source": [
        "18)  What is the difference between os.fork() and multiprocessing in Python?\n",
        "-  os.fork() - directly vreates a child process at the os level.\n",
        "-  multiprocessing - It is a cross - platform module providing an API for creating and managing multiple processes"
      ],
      "metadata": {
        "id": "EWOH8GkXi7aD"
      }
    },
    {
      "cell_type": "markdown",
      "source": [
        "19) What is the importance of closing a file in Python?\n",
        "-  It ensures data is written properly to disk , prevents data corruption or memory leaks."
      ],
      "metadata": {
        "id": "6PbvDu4_jPIp"
      }
    },
    {
      "cell_type": "markdown",
      "source": [
        "20)  What is the difference between file.read() and file.readline() in Python?\n",
        "-  file.read() - reads the entire file or a specified no. of bytes\n",
        "-  file.readline() - reads one line from the file at a time."
      ],
      "metadata": {
        "id": "cLQJhijwjfJo"
      }
    },
    {
      "cell_type": "markdown",
      "source": [
        "21)  What is the logging module in Python used for?\n",
        "-  It provides a standard way to record log messages to different destinations with different severity levels."
      ],
      "metadata": {
        "id": "4z8bgkQ_jwta"
      }
    },
    {
      "cell_type": "markdown",
      "source": [
        "22)  What is the os module in Python used for in file handling?\n",
        "-  It allows interaction with the operating system - including file path operations, directory creation/ deletion/renaming"
      ],
      "metadata": {
        "id": "Ukq6pXNRj9rR"
      }
    },
    {
      "cell_type": "markdown",
      "source": [
        "23) What are the challenges associated with memory management in Python?\n",
        "-  High memory usage in large datasets , difficulty in predicting when garbage collection occurs"
      ],
      "metadata": {
        "id": "qcyMvtOGkPN4"
      }
    },
    {
      "cell_type": "markdown",
      "source": [
        "24)  How do you raise an exception manually in Python?\n",
        "-  You can raise an exception using the *raise* keyword\n"
      ],
      "metadata": {
        "id": "gce3yHoxke7S"
      }
    },
    {
      "cell_type": "markdown",
      "source": [
        "25)  Why is it important to use multithreading in certain applications??\n",
        "-  Improves performance in I/O bound applications by allowing concurrent operations and better cpu utilization without blocking the main thread"
      ],
      "metadata": {
        "id": "eaFV3EolksdA"
      }
    },
    {
      "cell_type": "markdown",
      "source": [
        "**PRACTICAL QUESTIONS**"
      ],
      "metadata": {
        "id": "hOEDrmJgk9yq"
      }
    },
    {
      "cell_type": "code",
      "source": [
        "#1)  How can you open a file for writing in Python and write a string to it?\n",
        "\n",
        "with open(\"my_file.txt\", \"w\") as file:\n",
        "    file.write(\"Hello, I am Abhi.\")\n"
      ],
      "metadata": {
        "id": "naxC5YbxlBV4"
      },
      "execution_count": 4,
      "outputs": []
    },
    {
      "cell_type": "code",
      "source": [
        "#2) Write a Python program to read the contents of a file and print each line?\n",
        "\n",
        "with open(\"my_file.txt\", \"r\") as file:\n",
        "    for line in file:\n",
        "        print(line.strip())"
      ],
      "metadata": {
        "colab": {
          "base_uri": "https://localhost:8080/"
        },
        "id": "6lh-eXoDlp4g",
        "outputId": "23959c01-cf8b-47ec-e8cf-3b7ebbfcd392"
      },
      "execution_count": 5,
      "outputs": [
        {
          "output_type": "stream",
          "name": "stdout",
          "text": [
            "Hello, I am Abhi.\n"
          ]
        }
      ]
    },
    {
      "cell_type": "code",
      "source": [
        "#3)  How would you handle a case where the file doesn't exist while trying to open it for reading?\n",
        "\n",
        "\n",
        "try:\n",
        "  with open(\"No_File.txt\", \"r\") as file:\n",
        "    content = file.read()\n",
        "except FileNotFoundError:\n",
        "  print(\"File not found.\")"
      ],
      "metadata": {
        "colab": {
          "base_uri": "https://localhost:8080/"
        },
        "id": "CAtxkka_lvCY",
        "outputId": "1be599a8-0dfc-4701-c197-daa8aca2e6b7"
      },
      "execution_count": 7,
      "outputs": [
        {
          "output_type": "stream",
          "name": "stdout",
          "text": [
            "File not found.\n"
          ]
        }
      ]
    },
    {
      "cell_type": "code",
      "source": [
        "#4)  Write a Python script that reads from one file and writes its content to another file?\n",
        "\n",
        "with open(\"my_file.txt\", \"r\") as source_file:\n",
        "    content = source_file.read()\n",
        "\n",
        "with open(\"new_file.txt\", \"w\") as dest_file:\n",
        "    dest_file.write(content)"
      ],
      "metadata": {
        "id": "8WBROpXSl_Qg"
      },
      "execution_count": 10,
      "outputs": []
    },
    {
      "cell_type": "code",
      "source": [
        "#5) How would you catch and handle division by zero error in Python?\n",
        "\n",
        "try:\n",
        "  result = 10 / 0\n",
        "except ZeroDivisionError:\n",
        "  print(\"Error: Division by zero.\")"
      ],
      "metadata": {
        "colab": {
          "base_uri": "https://localhost:8080/"
        },
        "id": "dj81bCQymJlo",
        "outputId": "6e6d4a52-4374-4c72-ca45-0287ee2296f8"
      },
      "execution_count": 12,
      "outputs": [
        {
          "output_type": "stream",
          "name": "stdout",
          "text": [
            "Error: Division by zero.\n"
          ]
        }
      ]
    },
    {
      "cell_type": "code",
      "source": [
        "#6)  Write a Python program that logs an error message to a log file when a division by zero exception occurs?\n",
        "\n",
        "import logging\n",
        "\n",
        "logging.basicConfig(filename=\"error_division_log.txt\", level=logging.ERROR)\n",
        "\n",
        "try:\n",
        "  result = 10 / 0\n",
        "except ZeroDivisionError:\n",
        "  logging.error(\"Division by zero error occurred.\")"
      ],
      "metadata": {
        "colab": {
          "base_uri": "https://localhost:8080/"
        },
        "id": "CL1uHsjsmWZv",
        "outputId": "afbe74e4-7d4f-4858-8b91-0e354db3ed6f"
      },
      "execution_count": 14,
      "outputs": [
        {
          "output_type": "stream",
          "name": "stderr",
          "text": [
            "ERROR:root:Division by zero error occurred.\n"
          ]
        }
      ]
    },
    {
      "cell_type": "code",
      "source": [
        "#7)  How do you log information at different levels (INFO, ERROR, WARNING) in Python using the logging module?\n",
        "\n",
        "\n",
        "import logging\n",
        "\n",
        "logging.basicConfig(filename=\"log_levels.txt\", level=logging.INFO)\n",
        "\n",
        "logging.info(\"This is an info message.\")\n",
        "logging.warning(\"This is a warning message.\")\n",
        "logging.error(\"This is an error message.\")"
      ],
      "metadata": {
        "colab": {
          "base_uri": "https://localhost:8080/"
        },
        "id": "lSC-rxAWmnCv",
        "outputId": "18631688-9217-4f52-fead-9212e732e956"
      },
      "execution_count": 15,
      "outputs": [
        {
          "output_type": "stream",
          "name": "stderr",
          "text": [
            "WARNING:root:This is a warning message.\n",
            "ERROR:root:This is an error message.\n"
          ]
        }
      ]
    },
    {
      "cell_type": "code",
      "source": [
        "#8) Write a program to handle a file opening error using exception handling?\n",
        "\n",
        "try:\n",
        "  with open(\"No_File.txt\", \"r\") as file:\n",
        "    content = file.read()\n",
        "except FileNotFoundError:\n",
        "  print(\"File not found.\")"
      ],
      "metadata": {
        "colab": {
          "base_uri": "https://localhost:8080/"
        },
        "id": "dcUktmuBmxev",
        "outputId": "cfe2f10a-6625-45e1-99bf-f3a641e3d0a8"
      },
      "execution_count": 16,
      "outputs": [
        {
          "output_type": "stream",
          "name": "stdout",
          "text": [
            "File not found.\n"
          ]
        }
      ]
    },
    {
      "cell_type": "code",
      "source": [
        "#9)  How can you read a file line by line and store its content in a list in Python?\n",
        "\n",
        "\n",
        "with open(\"my_file.txt\", \"r\") as file:\n",
        "    lines = file.readlines()\n",
        "\n",
        "for line in lines:\n",
        "    print(line.strip())"
      ],
      "metadata": {
        "colab": {
          "base_uri": "https://localhost:8080/"
        },
        "id": "SIjTGo5tm43_",
        "outputId": "805e6808-95d2-427f-f9af-5223097487fd"
      },
      "execution_count": 19,
      "outputs": [
        {
          "output_type": "stream",
          "name": "stdout",
          "text": [
            "Hello, I am Abhi.\n"
          ]
        }
      ]
    },
    {
      "cell_type": "code",
      "source": [
        "#10) How can you append data to an existing file in Python?\n",
        "\n",
        "with open(\"my_file.txt\", \"a\") as file:\n",
        "    file.write(\"\\nAppended line.\")"
      ],
      "metadata": {
        "id": "q2rkkup4m_TI"
      },
      "execution_count": 20,
      "outputs": []
    },
    {
      "cell_type": "code",
      "source": [
        "#11)  Write a Python program that uses a try-except block to handle an error when attempting to access a\n",
        "#dictionary key that doesn't exist?\n",
        "\n",
        "\n",
        "try:\n",
        "  my_dict = {\"name\": \"Abhi\"}\n",
        "  value = my_dict[\"surname\"]\n",
        "except KeyError:\n",
        "  print(\"Key not found in the dictionary.\")"
      ],
      "metadata": {
        "colab": {
          "base_uri": "https://localhost:8080/"
        },
        "id": "9oN20vnynN5v",
        "outputId": "8e9f80c1-86ec-44e7-f49f-390c37451e47"
      },
      "execution_count": 24,
      "outputs": [
        {
          "output_type": "stream",
          "name": "stdout",
          "text": [
            "Key not found in the dictionary.\n"
          ]
        }
      ]
    },
    {
      "cell_type": "code",
      "source": [
        "#12)  Write a program that demonstrates using multiple except blocks to handle different types of exceptions?\n",
        "\n",
        "try:\n",
        "  num = int(input(\"Enter the number\"))\n",
        "  result = 10/num\n",
        "\n",
        "except ValueError:\n",
        "  print(\"Invalid input\")\n",
        "except ZeroDivisionError:\n",
        "  print(\"Error: Division by zero.\")"
      ],
      "metadata": {
        "colab": {
          "base_uri": "https://localhost:8080/"
        },
        "id": "7AX_D9ArnjxP",
        "outputId": "b015265f-8211-4969-9cae-7e9ad4e0c63a"
      },
      "execution_count": 27,
      "outputs": [
        {
          "output_type": "stream",
          "name": "stdout",
          "text": [
            "Enter the number0\n",
            "Error: Division by zero.\n"
          ]
        }
      ]
    },
    {
      "cell_type": "code",
      "source": [
        "#13) How would you check if a file exists before attempting to read it in Python?\n",
        "\n",
        "\n",
        "import os\n",
        "\n",
        "if os.path.exists(\"my_no_file.txt\"):\n",
        "    with open(\"my_file.txt\", \"r\") as file:\n",
        "        content = file.read()\n",
        "        print(content)\n",
        "else:\n",
        "    print(\"File not found\")"
      ],
      "metadata": {
        "colab": {
          "base_uri": "https://localhost:8080/"
        },
        "id": "w4S78-seoIgP",
        "outputId": "9e81e4b0-d874-44a6-e388-b959135de0d0"
      },
      "execution_count": 30,
      "outputs": [
        {
          "output_type": "stream",
          "name": "stdout",
          "text": [
            "File not found\n"
          ]
        }
      ]
    },
    {
      "cell_type": "code",
      "source": [
        "#14) Write a program that uses the logging module to log both informational and error messages?\n",
        "\n",
        "\n",
        "import logging\n",
        "\n",
        "logging.basicConfig(filename=\"log_messages.txt\", level=logging.INFO)\n",
        "\n",
        "logging.info(\"This is an info message.\")\n",
        "\n",
        "try:\n",
        "  x = 10/0\n",
        "except ZeroDivisionError:\n",
        "  logging.error(\"Division by zero error occurred.\")\n",
        "\n"
      ],
      "metadata": {
        "colab": {
          "base_uri": "https://localhost:8080/"
        },
        "id": "mwNzD6gRoZw4",
        "outputId": "e0f28195-e086-449c-d3a5-31bb6a2f4aa5"
      },
      "execution_count": 35,
      "outputs": [
        {
          "output_type": "stream",
          "name": "stderr",
          "text": [
            "ERROR:root:Division by zero error occurred.\n"
          ]
        }
      ]
    },
    {
      "cell_type": "code",
      "source": [
        "#15)  Write a Python program that prints the content of a file and handles the case when the file is empty?\n",
        "\n",
        "\n",
        "with open(\"my_file.txt\", \"r\") as file:\n",
        "    content = file.read()\n",
        "\n",
        "if content:\n",
        "    print(content)\n",
        "else:\n",
        "    print(\"File is empty\")"
      ],
      "metadata": {
        "colab": {
          "base_uri": "https://localhost:8080/"
        },
        "id": "mljYfpRTo0pX",
        "outputId": "6fa0f0b8-8357-4428-c5e2-8268d5b019ba"
      },
      "execution_count": 38,
      "outputs": [
        {
          "output_type": "stream",
          "name": "stdout",
          "text": [
            "Hello, I am Abhi.\n",
            "Appended line.\n"
          ]
        }
      ]
    },
    {
      "cell_type": "code",
      "source": [
        "#16) Demonstrate how to use memory profiling to check the memory usage of a small program?\n",
        "\n",
        "%pip install memory-profiler\n",
        "\n",
        "from memory_profiler import profile\n",
        "\n",
        "@profile\n",
        "def my_function():\n",
        "    x = [i for i in range(1000)]\n",
        "    return x\n",
        "\n",
        "my_function()\n"
      ],
      "metadata": {
        "colab": {
          "base_uri": "https://localhost:8080/"
        },
        "id": "za6cszW6o_Vf",
        "outputId": "9be8d9f4-048b-49fe-afae-73447e16208f"
      },
      "execution_count": 50,
      "outputs": [
        {
          "output_type": "stream",
          "name": "stdout",
          "text": [
            "Requirement already satisfied: memory-profiler in /usr/local/lib/python3.12/dist-packages (0.61.0)\n",
            "Requirement already satisfied: psutil in /usr/local/lib/python3.12/dist-packages (from memory-profiler) (5.9.5)\n",
            "ERROR: Could not find file /tmp/ipython-input-3693318219.py\n"
          ]
        },
        {
          "output_type": "execute_result",
          "data": {
            "text/plain": [
              "[0,\n",
              " 1,\n",
              " 2,\n",
              " 3,\n",
              " 4,\n",
              " 5,\n",
              " 6,\n",
              " 7,\n",
              " 8,\n",
              " 9,\n",
              " 10,\n",
              " 11,\n",
              " 12,\n",
              " 13,\n",
              " 14,\n",
              " 15,\n",
              " 16,\n",
              " 17,\n",
              " 18,\n",
              " 19,\n",
              " 20,\n",
              " 21,\n",
              " 22,\n",
              " 23,\n",
              " 24,\n",
              " 25,\n",
              " 26,\n",
              " 27,\n",
              " 28,\n",
              " 29,\n",
              " 30,\n",
              " 31,\n",
              " 32,\n",
              " 33,\n",
              " 34,\n",
              " 35,\n",
              " 36,\n",
              " 37,\n",
              " 38,\n",
              " 39,\n",
              " 40,\n",
              " 41,\n",
              " 42,\n",
              " 43,\n",
              " 44,\n",
              " 45,\n",
              " 46,\n",
              " 47,\n",
              " 48,\n",
              " 49,\n",
              " 50,\n",
              " 51,\n",
              " 52,\n",
              " 53,\n",
              " 54,\n",
              " 55,\n",
              " 56,\n",
              " 57,\n",
              " 58,\n",
              " 59,\n",
              " 60,\n",
              " 61,\n",
              " 62,\n",
              " 63,\n",
              " 64,\n",
              " 65,\n",
              " 66,\n",
              " 67,\n",
              " 68,\n",
              " 69,\n",
              " 70,\n",
              " 71,\n",
              " 72,\n",
              " 73,\n",
              " 74,\n",
              " 75,\n",
              " 76,\n",
              " 77,\n",
              " 78,\n",
              " 79,\n",
              " 80,\n",
              " 81,\n",
              " 82,\n",
              " 83,\n",
              " 84,\n",
              " 85,\n",
              " 86,\n",
              " 87,\n",
              " 88,\n",
              " 89,\n",
              " 90,\n",
              " 91,\n",
              " 92,\n",
              " 93,\n",
              " 94,\n",
              " 95,\n",
              " 96,\n",
              " 97,\n",
              " 98,\n",
              " 99,\n",
              " 100,\n",
              " 101,\n",
              " 102,\n",
              " 103,\n",
              " 104,\n",
              " 105,\n",
              " 106,\n",
              " 107,\n",
              " 108,\n",
              " 109,\n",
              " 110,\n",
              " 111,\n",
              " 112,\n",
              " 113,\n",
              " 114,\n",
              " 115,\n",
              " 116,\n",
              " 117,\n",
              " 118,\n",
              " 119,\n",
              " 120,\n",
              " 121,\n",
              " 122,\n",
              " 123,\n",
              " 124,\n",
              " 125,\n",
              " 126,\n",
              " 127,\n",
              " 128,\n",
              " 129,\n",
              " 130,\n",
              " 131,\n",
              " 132,\n",
              " 133,\n",
              " 134,\n",
              " 135,\n",
              " 136,\n",
              " 137,\n",
              " 138,\n",
              " 139,\n",
              " 140,\n",
              " 141,\n",
              " 142,\n",
              " 143,\n",
              " 144,\n",
              " 145,\n",
              " 146,\n",
              " 147,\n",
              " 148,\n",
              " 149,\n",
              " 150,\n",
              " 151,\n",
              " 152,\n",
              " 153,\n",
              " 154,\n",
              " 155,\n",
              " 156,\n",
              " 157,\n",
              " 158,\n",
              " 159,\n",
              " 160,\n",
              " 161,\n",
              " 162,\n",
              " 163,\n",
              " 164,\n",
              " 165,\n",
              " 166,\n",
              " 167,\n",
              " 168,\n",
              " 169,\n",
              " 170,\n",
              " 171,\n",
              " 172,\n",
              " 173,\n",
              " 174,\n",
              " 175,\n",
              " 176,\n",
              " 177,\n",
              " 178,\n",
              " 179,\n",
              " 180,\n",
              " 181,\n",
              " 182,\n",
              " 183,\n",
              " 184,\n",
              " 185,\n",
              " 186,\n",
              " 187,\n",
              " 188,\n",
              " 189,\n",
              " 190,\n",
              " 191,\n",
              " 192,\n",
              " 193,\n",
              " 194,\n",
              " 195,\n",
              " 196,\n",
              " 197,\n",
              " 198,\n",
              " 199,\n",
              " 200,\n",
              " 201,\n",
              " 202,\n",
              " 203,\n",
              " 204,\n",
              " 205,\n",
              " 206,\n",
              " 207,\n",
              " 208,\n",
              " 209,\n",
              " 210,\n",
              " 211,\n",
              " 212,\n",
              " 213,\n",
              " 214,\n",
              " 215,\n",
              " 216,\n",
              " 217,\n",
              " 218,\n",
              " 219,\n",
              " 220,\n",
              " 221,\n",
              " 222,\n",
              " 223,\n",
              " 224,\n",
              " 225,\n",
              " 226,\n",
              " 227,\n",
              " 228,\n",
              " 229,\n",
              " 230,\n",
              " 231,\n",
              " 232,\n",
              " 233,\n",
              " 234,\n",
              " 235,\n",
              " 236,\n",
              " 237,\n",
              " 238,\n",
              " 239,\n",
              " 240,\n",
              " 241,\n",
              " 242,\n",
              " 243,\n",
              " 244,\n",
              " 245,\n",
              " 246,\n",
              " 247,\n",
              " 248,\n",
              " 249,\n",
              " 250,\n",
              " 251,\n",
              " 252,\n",
              " 253,\n",
              " 254,\n",
              " 255,\n",
              " 256,\n",
              " 257,\n",
              " 258,\n",
              " 259,\n",
              " 260,\n",
              " 261,\n",
              " 262,\n",
              " 263,\n",
              " 264,\n",
              " 265,\n",
              " 266,\n",
              " 267,\n",
              " 268,\n",
              " 269,\n",
              " 270,\n",
              " 271,\n",
              " 272,\n",
              " 273,\n",
              " 274,\n",
              " 275,\n",
              " 276,\n",
              " 277,\n",
              " 278,\n",
              " 279,\n",
              " 280,\n",
              " 281,\n",
              " 282,\n",
              " 283,\n",
              " 284,\n",
              " 285,\n",
              " 286,\n",
              " 287,\n",
              " 288,\n",
              " 289,\n",
              " 290,\n",
              " 291,\n",
              " 292,\n",
              " 293,\n",
              " 294,\n",
              " 295,\n",
              " 296,\n",
              " 297,\n",
              " 298,\n",
              " 299,\n",
              " 300,\n",
              " 301,\n",
              " 302,\n",
              " 303,\n",
              " 304,\n",
              " 305,\n",
              " 306,\n",
              " 307,\n",
              " 308,\n",
              " 309,\n",
              " 310,\n",
              " 311,\n",
              " 312,\n",
              " 313,\n",
              " 314,\n",
              " 315,\n",
              " 316,\n",
              " 317,\n",
              " 318,\n",
              " 319,\n",
              " 320,\n",
              " 321,\n",
              " 322,\n",
              " 323,\n",
              " 324,\n",
              " 325,\n",
              " 326,\n",
              " 327,\n",
              " 328,\n",
              " 329,\n",
              " 330,\n",
              " 331,\n",
              " 332,\n",
              " 333,\n",
              " 334,\n",
              " 335,\n",
              " 336,\n",
              " 337,\n",
              " 338,\n",
              " 339,\n",
              " 340,\n",
              " 341,\n",
              " 342,\n",
              " 343,\n",
              " 344,\n",
              " 345,\n",
              " 346,\n",
              " 347,\n",
              " 348,\n",
              " 349,\n",
              " 350,\n",
              " 351,\n",
              " 352,\n",
              " 353,\n",
              " 354,\n",
              " 355,\n",
              " 356,\n",
              " 357,\n",
              " 358,\n",
              " 359,\n",
              " 360,\n",
              " 361,\n",
              " 362,\n",
              " 363,\n",
              " 364,\n",
              " 365,\n",
              " 366,\n",
              " 367,\n",
              " 368,\n",
              " 369,\n",
              " 370,\n",
              " 371,\n",
              " 372,\n",
              " 373,\n",
              " 374,\n",
              " 375,\n",
              " 376,\n",
              " 377,\n",
              " 378,\n",
              " 379,\n",
              " 380,\n",
              " 381,\n",
              " 382,\n",
              " 383,\n",
              " 384,\n",
              " 385,\n",
              " 386,\n",
              " 387,\n",
              " 388,\n",
              " 389,\n",
              " 390,\n",
              " 391,\n",
              " 392,\n",
              " 393,\n",
              " 394,\n",
              " 395,\n",
              " 396,\n",
              " 397,\n",
              " 398,\n",
              " 399,\n",
              " 400,\n",
              " 401,\n",
              " 402,\n",
              " 403,\n",
              " 404,\n",
              " 405,\n",
              " 406,\n",
              " 407,\n",
              " 408,\n",
              " 409,\n",
              " 410,\n",
              " 411,\n",
              " 412,\n",
              " 413,\n",
              " 414,\n",
              " 415,\n",
              " 416,\n",
              " 417,\n",
              " 418,\n",
              " 419,\n",
              " 420,\n",
              " 421,\n",
              " 422,\n",
              " 423,\n",
              " 424,\n",
              " 425,\n",
              " 426,\n",
              " 427,\n",
              " 428,\n",
              " 429,\n",
              " 430,\n",
              " 431,\n",
              " 432,\n",
              " 433,\n",
              " 434,\n",
              " 435,\n",
              " 436,\n",
              " 437,\n",
              " 438,\n",
              " 439,\n",
              " 440,\n",
              " 441,\n",
              " 442,\n",
              " 443,\n",
              " 444,\n",
              " 445,\n",
              " 446,\n",
              " 447,\n",
              " 448,\n",
              " 449,\n",
              " 450,\n",
              " 451,\n",
              " 452,\n",
              " 453,\n",
              " 454,\n",
              " 455,\n",
              " 456,\n",
              " 457,\n",
              " 458,\n",
              " 459,\n",
              " 460,\n",
              " 461,\n",
              " 462,\n",
              " 463,\n",
              " 464,\n",
              " 465,\n",
              " 466,\n",
              " 467,\n",
              " 468,\n",
              " 469,\n",
              " 470,\n",
              " 471,\n",
              " 472,\n",
              " 473,\n",
              " 474,\n",
              " 475,\n",
              " 476,\n",
              " 477,\n",
              " 478,\n",
              " 479,\n",
              " 480,\n",
              " 481,\n",
              " 482,\n",
              " 483,\n",
              " 484,\n",
              " 485,\n",
              " 486,\n",
              " 487,\n",
              " 488,\n",
              " 489,\n",
              " 490,\n",
              " 491,\n",
              " 492,\n",
              " 493,\n",
              " 494,\n",
              " 495,\n",
              " 496,\n",
              " 497,\n",
              " 498,\n",
              " 499,\n",
              " 500,\n",
              " 501,\n",
              " 502,\n",
              " 503,\n",
              " 504,\n",
              " 505,\n",
              " 506,\n",
              " 507,\n",
              " 508,\n",
              " 509,\n",
              " 510,\n",
              " 511,\n",
              " 512,\n",
              " 513,\n",
              " 514,\n",
              " 515,\n",
              " 516,\n",
              " 517,\n",
              " 518,\n",
              " 519,\n",
              " 520,\n",
              " 521,\n",
              " 522,\n",
              " 523,\n",
              " 524,\n",
              " 525,\n",
              " 526,\n",
              " 527,\n",
              " 528,\n",
              " 529,\n",
              " 530,\n",
              " 531,\n",
              " 532,\n",
              " 533,\n",
              " 534,\n",
              " 535,\n",
              " 536,\n",
              " 537,\n",
              " 538,\n",
              " 539,\n",
              " 540,\n",
              " 541,\n",
              " 542,\n",
              " 543,\n",
              " 544,\n",
              " 545,\n",
              " 546,\n",
              " 547,\n",
              " 548,\n",
              " 549,\n",
              " 550,\n",
              " 551,\n",
              " 552,\n",
              " 553,\n",
              " 554,\n",
              " 555,\n",
              " 556,\n",
              " 557,\n",
              " 558,\n",
              " 559,\n",
              " 560,\n",
              " 561,\n",
              " 562,\n",
              " 563,\n",
              " 564,\n",
              " 565,\n",
              " 566,\n",
              " 567,\n",
              " 568,\n",
              " 569,\n",
              " 570,\n",
              " 571,\n",
              " 572,\n",
              " 573,\n",
              " 574,\n",
              " 575,\n",
              " 576,\n",
              " 577,\n",
              " 578,\n",
              " 579,\n",
              " 580,\n",
              " 581,\n",
              " 582,\n",
              " 583,\n",
              " 584,\n",
              " 585,\n",
              " 586,\n",
              " 587,\n",
              " 588,\n",
              " 589,\n",
              " 590,\n",
              " 591,\n",
              " 592,\n",
              " 593,\n",
              " 594,\n",
              " 595,\n",
              " 596,\n",
              " 597,\n",
              " 598,\n",
              " 599,\n",
              " 600,\n",
              " 601,\n",
              " 602,\n",
              " 603,\n",
              " 604,\n",
              " 605,\n",
              " 606,\n",
              " 607,\n",
              " 608,\n",
              " 609,\n",
              " 610,\n",
              " 611,\n",
              " 612,\n",
              " 613,\n",
              " 614,\n",
              " 615,\n",
              " 616,\n",
              " 617,\n",
              " 618,\n",
              " 619,\n",
              " 620,\n",
              " 621,\n",
              " 622,\n",
              " 623,\n",
              " 624,\n",
              " 625,\n",
              " 626,\n",
              " 627,\n",
              " 628,\n",
              " 629,\n",
              " 630,\n",
              " 631,\n",
              " 632,\n",
              " 633,\n",
              " 634,\n",
              " 635,\n",
              " 636,\n",
              " 637,\n",
              " 638,\n",
              " 639,\n",
              " 640,\n",
              " 641,\n",
              " 642,\n",
              " 643,\n",
              " 644,\n",
              " 645,\n",
              " 646,\n",
              " 647,\n",
              " 648,\n",
              " 649,\n",
              " 650,\n",
              " 651,\n",
              " 652,\n",
              " 653,\n",
              " 654,\n",
              " 655,\n",
              " 656,\n",
              " 657,\n",
              " 658,\n",
              " 659,\n",
              " 660,\n",
              " 661,\n",
              " 662,\n",
              " 663,\n",
              " 664,\n",
              " 665,\n",
              " 666,\n",
              " 667,\n",
              " 668,\n",
              " 669,\n",
              " 670,\n",
              " 671,\n",
              " 672,\n",
              " 673,\n",
              " 674,\n",
              " 675,\n",
              " 676,\n",
              " 677,\n",
              " 678,\n",
              " 679,\n",
              " 680,\n",
              " 681,\n",
              " 682,\n",
              " 683,\n",
              " 684,\n",
              " 685,\n",
              " 686,\n",
              " 687,\n",
              " 688,\n",
              " 689,\n",
              " 690,\n",
              " 691,\n",
              " 692,\n",
              " 693,\n",
              " 694,\n",
              " 695,\n",
              " 696,\n",
              " 697,\n",
              " 698,\n",
              " 699,\n",
              " 700,\n",
              " 701,\n",
              " 702,\n",
              " 703,\n",
              " 704,\n",
              " 705,\n",
              " 706,\n",
              " 707,\n",
              " 708,\n",
              " 709,\n",
              " 710,\n",
              " 711,\n",
              " 712,\n",
              " 713,\n",
              " 714,\n",
              " 715,\n",
              " 716,\n",
              " 717,\n",
              " 718,\n",
              " 719,\n",
              " 720,\n",
              " 721,\n",
              " 722,\n",
              " 723,\n",
              " 724,\n",
              " 725,\n",
              " 726,\n",
              " 727,\n",
              " 728,\n",
              " 729,\n",
              " 730,\n",
              " 731,\n",
              " 732,\n",
              " 733,\n",
              " 734,\n",
              " 735,\n",
              " 736,\n",
              " 737,\n",
              " 738,\n",
              " 739,\n",
              " 740,\n",
              " 741,\n",
              " 742,\n",
              " 743,\n",
              " 744,\n",
              " 745,\n",
              " 746,\n",
              " 747,\n",
              " 748,\n",
              " 749,\n",
              " 750,\n",
              " 751,\n",
              " 752,\n",
              " 753,\n",
              " 754,\n",
              " 755,\n",
              " 756,\n",
              " 757,\n",
              " 758,\n",
              " 759,\n",
              " 760,\n",
              " 761,\n",
              " 762,\n",
              " 763,\n",
              " 764,\n",
              " 765,\n",
              " 766,\n",
              " 767,\n",
              " 768,\n",
              " 769,\n",
              " 770,\n",
              " 771,\n",
              " 772,\n",
              " 773,\n",
              " 774,\n",
              " 775,\n",
              " 776,\n",
              " 777,\n",
              " 778,\n",
              " 779,\n",
              " 780,\n",
              " 781,\n",
              " 782,\n",
              " 783,\n",
              " 784,\n",
              " 785,\n",
              " 786,\n",
              " 787,\n",
              " 788,\n",
              " 789,\n",
              " 790,\n",
              " 791,\n",
              " 792,\n",
              " 793,\n",
              " 794,\n",
              " 795,\n",
              " 796,\n",
              " 797,\n",
              " 798,\n",
              " 799,\n",
              " 800,\n",
              " 801,\n",
              " 802,\n",
              " 803,\n",
              " 804,\n",
              " 805,\n",
              " 806,\n",
              " 807,\n",
              " 808,\n",
              " 809,\n",
              " 810,\n",
              " 811,\n",
              " 812,\n",
              " 813,\n",
              " 814,\n",
              " 815,\n",
              " 816,\n",
              " 817,\n",
              " 818,\n",
              " 819,\n",
              " 820,\n",
              " 821,\n",
              " 822,\n",
              " 823,\n",
              " 824,\n",
              " 825,\n",
              " 826,\n",
              " 827,\n",
              " 828,\n",
              " 829,\n",
              " 830,\n",
              " 831,\n",
              " 832,\n",
              " 833,\n",
              " 834,\n",
              " 835,\n",
              " 836,\n",
              " 837,\n",
              " 838,\n",
              " 839,\n",
              " 840,\n",
              " 841,\n",
              " 842,\n",
              " 843,\n",
              " 844,\n",
              " 845,\n",
              " 846,\n",
              " 847,\n",
              " 848,\n",
              " 849,\n",
              " 850,\n",
              " 851,\n",
              " 852,\n",
              " 853,\n",
              " 854,\n",
              " 855,\n",
              " 856,\n",
              " 857,\n",
              " 858,\n",
              " 859,\n",
              " 860,\n",
              " 861,\n",
              " 862,\n",
              " 863,\n",
              " 864,\n",
              " 865,\n",
              " 866,\n",
              " 867,\n",
              " 868,\n",
              " 869,\n",
              " 870,\n",
              " 871,\n",
              " 872,\n",
              " 873,\n",
              " 874,\n",
              " 875,\n",
              " 876,\n",
              " 877,\n",
              " 878,\n",
              " 879,\n",
              " 880,\n",
              " 881,\n",
              " 882,\n",
              " 883,\n",
              " 884,\n",
              " 885,\n",
              " 886,\n",
              " 887,\n",
              " 888,\n",
              " 889,\n",
              " 890,\n",
              " 891,\n",
              " 892,\n",
              " 893,\n",
              " 894,\n",
              " 895,\n",
              " 896,\n",
              " 897,\n",
              " 898,\n",
              " 899,\n",
              " 900,\n",
              " 901,\n",
              " 902,\n",
              " 903,\n",
              " 904,\n",
              " 905,\n",
              " 906,\n",
              " 907,\n",
              " 908,\n",
              " 909,\n",
              " 910,\n",
              " 911,\n",
              " 912,\n",
              " 913,\n",
              " 914,\n",
              " 915,\n",
              " 916,\n",
              " 917,\n",
              " 918,\n",
              " 919,\n",
              " 920,\n",
              " 921,\n",
              " 922,\n",
              " 923,\n",
              " 924,\n",
              " 925,\n",
              " 926,\n",
              " 927,\n",
              " 928,\n",
              " 929,\n",
              " 930,\n",
              " 931,\n",
              " 932,\n",
              " 933,\n",
              " 934,\n",
              " 935,\n",
              " 936,\n",
              " 937,\n",
              " 938,\n",
              " 939,\n",
              " 940,\n",
              " 941,\n",
              " 942,\n",
              " 943,\n",
              " 944,\n",
              " 945,\n",
              " 946,\n",
              " 947,\n",
              " 948,\n",
              " 949,\n",
              " 950,\n",
              " 951,\n",
              " 952,\n",
              " 953,\n",
              " 954,\n",
              " 955,\n",
              " 956,\n",
              " 957,\n",
              " 958,\n",
              " 959,\n",
              " 960,\n",
              " 961,\n",
              " 962,\n",
              " 963,\n",
              " 964,\n",
              " 965,\n",
              " 966,\n",
              " 967,\n",
              " 968,\n",
              " 969,\n",
              " 970,\n",
              " 971,\n",
              " 972,\n",
              " 973,\n",
              " 974,\n",
              " 975,\n",
              " 976,\n",
              " 977,\n",
              " 978,\n",
              " 979,\n",
              " 980,\n",
              " 981,\n",
              " 982,\n",
              " 983,\n",
              " 984,\n",
              " 985,\n",
              " 986,\n",
              " 987,\n",
              " 988,\n",
              " 989,\n",
              " 990,\n",
              " 991,\n",
              " 992,\n",
              " 993,\n",
              " 994,\n",
              " 995,\n",
              " 996,\n",
              " 997,\n",
              " 998,\n",
              " 999]"
            ]
          },
          "metadata": {},
          "execution_count": 50
        }
      ]
    },
    {
      "cell_type": "code",
      "metadata": {
        "colab": {
          "base_uri": "https://localhost:8080/"
        },
        "id": "b4cb546d",
        "outputId": "28d94024-db52-4467-cdb3-b86eb9d248c6"
      },
      "source": [
        "#17) Write a Python program to create and write a list of numbers to a file, one number per line?\n",
        "\n",
        "\n",
        "num = [1,2,3,4,5]\n",
        "with open(\"my_file.txt\", \"w\") as file:\n",
        "    for i in num:\n",
        "        file.write(str(i) + \"\\n\")\n",
        "\n",
        "\n",
        "#checking the file\n",
        "with open(\"my_file.txt\", \"r\") as file:\n",
        "    content = file.read()\n",
        "    print(content)"
      ],
      "execution_count": 63,
      "outputs": [
        {
          "output_type": "stream",
          "name": "stdout",
          "text": [
            "1\n",
            "2\n",
            "3\n",
            "4\n",
            "5\n",
            "\n"
          ]
        }
      ]
    },
    {
      "cell_type": "code",
      "source": [
        "#18) How would you implement a basic logging setup that logs to a file with rotation after 1MB?\n",
        "\n",
        "\n",
        "import logging\n",
        "from logging.handlers import RotatingFileHandler\n",
        "\n",
        "\n",
        "handler = RotatingFileHandler(\"my_log.txt\", maxBytes=1000, backupCount=5)\n",
        "logging.basicConfig(handler = [handler] ,level=logging.INFO)\n",
        "\n",
        "logging.info(\"This is rotating log.\")\n"
      ],
      "metadata": {
        "id": "xyEI1XuWpbXg"
      },
      "execution_count": 69,
      "outputs": []
    },
    {
      "cell_type": "code",
      "source": [
        "#19) Write a program that handles both IndexError and KeyError using a try-except block?\n",
        "\n",
        "try:\n",
        "  my_dict = {\"name\": \"Abhi\"}\n",
        "  value = my_dict[\"surname\"]\n",
        "except KeyError:\n",
        "  print(\"Key not found in the dictionary.\")\n",
        "except IndexError:\n",
        "  print(\"Index out of range.\")"
      ],
      "metadata": {
        "colab": {
          "base_uri": "https://localhost:8080/"
        },
        "id": "ye3t7Yp6rpbf",
        "outputId": "9b39fd57-ba54-4a05-e436-790d3e230097"
      },
      "execution_count": 72,
      "outputs": [
        {
          "output_type": "stream",
          "name": "stdout",
          "text": [
            "Key not found in the dictionary.\n"
          ]
        }
      ]
    },
    {
      "cell_type": "code",
      "source": [
        "#20) How would you open a file and read its contents using a context manager in Python?\n",
        "\n",
        "\n",
        "with open(\"my_file.txt\", \"r\") as file:\n",
        "    content = file.read()\n",
        "    print(content)"
      ],
      "metadata": {
        "colab": {
          "base_uri": "https://localhost:8080/"
        },
        "id": "9KbZPeIvrx0v",
        "outputId": "d70a5192-ff5a-40d7-920e-6b288b0440b1"
      },
      "execution_count": 73,
      "outputs": [
        {
          "output_type": "stream",
          "name": "stdout",
          "text": [
            "1\n",
            "2\n",
            "3\n",
            "4\n",
            "5\n",
            "\n"
          ]
        }
      ]
    },
    {
      "cell_type": "code",
      "source": [
        "#21)  Write a Python program that reads a file and prints the number of occurrences of a specific word?\n",
        "\n",
        "\n",
        "word = \"Abhi\"\n",
        "count = 0\n",
        "\n",
        "with open(\"my_file.txt\", \"r\") as file:\n",
        "    for line in file:\n",
        "        words = line.split()\n",
        "        for w in words:\n",
        "            if w == word:\n",
        "                count += 1\n",
        "print(f\"The word '{word}' occurs {count} times. \")"
      ],
      "metadata": {
        "colab": {
          "base_uri": "https://localhost:8080/"
        },
        "id": "_l-ot8LmsBLO",
        "outputId": "8fac661e-6157-4330-8d82-66e6062253d2"
      },
      "execution_count": 77,
      "outputs": [
        {
          "output_type": "stream",
          "name": "stdout",
          "text": [
            "The word 'Abhi' occurs 0 times. \n"
          ]
        }
      ]
    },
    {
      "cell_type": "code",
      "source": [
        "#22) How can you check if a file is empty before attempting to read its contents?\n",
        "\n",
        "\n",
        "try:\n",
        "  with open(\"my_file.txt\", \"r\") as file:\n",
        "    content = file.read()\n",
        "    if content:\n",
        "      print(content)\n",
        "    else:\n",
        "      print(\"File is empty.\")\n",
        "except FileNotFoundError:\n",
        "  print(\"File not found.\")"
      ],
      "metadata": {
        "colab": {
          "base_uri": "https://localhost:8080/"
        },
        "id": "pqFe8puhsnYZ",
        "outputId": "64cacce6-48c1-4a4b-986a-bb8f5c1c771a"
      },
      "execution_count": 79,
      "outputs": [
        {
          "output_type": "stream",
          "name": "stdout",
          "text": [
            "1\n",
            "2\n",
            "3\n",
            "4\n",
            "5\n",
            "\n"
          ]
        }
      ]
    },
    {
      "cell_type": "code",
      "source": [
        "#23) Write a Python program that writes to a log file when an error occurs during file handling.?\n",
        "\n",
        "import logging\n",
        "logging.basicConfig(filename=\"error_log.txt\", level=logging.ERROR)\n",
        "\n",
        "try:\n",
        "  with open(\"No_File.txt\", \"r\") as file:\n",
        "    content = file.read()\n",
        "except Exception as e:\n",
        "  logging.error(f\"ERROR  : {e}\")"
      ],
      "metadata": {
        "colab": {
          "base_uri": "https://localhost:8080/"
        },
        "id": "5hk1XBt6tOrm",
        "outputId": "9051c74d-5af9-40eb-c508-49e5063949fe"
      },
      "execution_count": 80,
      "outputs": [
        {
          "output_type": "stream",
          "name": "stderr",
          "text": [
            "ERROR:root:ERROR  : [Errno 2] No such file or directory: 'No_File.txt'\n"
          ]
        }
      ]
    },
    {
      "cell_type": "code",
      "source": [],
      "metadata": {
        "id": "1dajARb6tpi-"
      },
      "execution_count": null,
      "outputs": []
    }
  ]
}
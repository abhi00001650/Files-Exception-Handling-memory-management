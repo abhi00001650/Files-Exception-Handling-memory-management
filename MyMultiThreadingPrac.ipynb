{
 "cells": [
  {
   "cell_type": "code",
   "execution_count": 1,
   "id": "fe414718-a4f7-496f-be42-7f1b29739f9b",
   "metadata": {},
   "outputs": [],
   "source": [
    "#A process is an instance of a computer program\n",
    "#process runs parallely on multiple processors >> multiprocessing\n",
    "#process runs concurrenntly on multiple thread in a processor >> multithreading"
   ]
  },
  {
   "cell_type": "code",
   "execution_count": 4,
   "id": "041b1b5c-8d5c-4e09-b55a-60a7163cdb02",
   "metadata": {},
   "outputs": [
    {
     "name": "stdout",
     "output_type": "stream",
     "text": [
      "Do Something\n",
      "sleep for 1 sec\n",
      "done with sleeping\n",
      "Do Something\n",
      "sleep for 1 sec\n",
      "done with sleeping\n",
      "Do Something\n",
      "sleep for 1 sec\n",
      "done with sleeping\n",
      "Do Something\n",
      "sleep for 1 sec\n",
      "done with sleeping\n",
      "Do Something\n",
      "sleep for 1 sec\n",
      "done with sleeping\n",
      "The program finished in 5.003280300006736 seconds\n"
     ]
    }
   ],
   "source": [
    "import time\n",
    "start = time.perf_counter()\n",
    "\n",
    "def test_func():\n",
    "    print(\"Do Something\")\n",
    "    print(\"sleep for 1 sec\")\n",
    "    time.sleep(1)\n",
    "    print(\"done with sleeping\")\n",
    "\n",
    "test_func()\n",
    "test_func()\n",
    "test_func()\n",
    "test_func()\n",
    "test_func()\n",
    "end = time.perf_counter()\n",
    "\n",
    "print(f\"The program finished in {end-start} seconds\")"
   ]
  },
  {
   "cell_type": "code",
   "execution_count": null,
   "id": "670f6295-c2c5-4ce1-90a9-bad9961817df",
   "metadata": {},
   "outputs": [],
   "source": [
    "#since the program ran sequentially(single thread on a single core)  , so it took 5 secs"
   ]
  },
  {
   "cell_type": "code",
   "execution_count": 6,
   "id": "84cffec1-e932-49f0-a710-21bd2aa4af3b",
   "metadata": {},
   "outputs": [
    {
     "name": "stdout",
     "output_type": "stream",
     "text": [
      "Do Something\n",
      "sleep for 1 sec\n",
      "Do Something\n",
      "sleep for 1 sec\n",
      "done with sleeping\n",
      "done with sleeping\n",
      "The program finished in 1.0034248000010848 seconds\n"
     ]
    }
   ],
   "source": [
    "import time\n",
    "import threading # python odule no need to install\n",
    "start = time.perf_counter()\n",
    "\n",
    "def test_func():\n",
    "    print(\"Do Something\")\n",
    "    print(\"sleep for 1 sec\")\n",
    "    time.sleep(1)\n",
    "    print(\"done with sleeping\")\n",
    "#run the program on 2 threads t1,t2\n",
    "t1 = threading.Thread(target = test_func)\n",
    "t2 = threading.Thread(target = test_func)\n",
    "\n",
    "t1.start()\n",
    "t2.start()#to start the thread\n",
    "\n",
    "t1.join()#join first executes 1,2 threads and then the main thread will be executed\n",
    "t2.join()\n",
    "end = time.perf_counter()\n",
    "\n",
    "print(f\"The program finished in {end-start} seconds\")"
   ]
  },
  {
   "cell_type": "code",
   "execution_count": 7,
   "id": "82ed7546-1496-42be-b845-cf363894f3ce",
   "metadata": {},
   "outputs": [
    {
     "name": "stdout",
     "output_type": "stream",
     "text": [
      "Do Something\n",
      "sleep for 1 sec\n",
      "Do Something\n",
      "sleep for 1 sec\n",
      "Do Something\n",
      "sleep for 1 sec\n",
      "Do Something\n",
      "sleep for 1 sec\n",
      "Do Something\n",
      "sleep for 1 sec\n",
      "Do Something\n",
      "sleep for 1 sec\n",
      "Do Something\n",
      "sleep for 1 sec\n",
      "Do Something\n",
      "sleep for 1 sec\n",
      "Do Something\n",
      "sleep for 1 sec\n",
      "Do Something\n",
      "sleep for 1 sec\n",
      "done with sleeping\n",
      "done with sleeping\n",
      "done with sleeping\n",
      "done with sleeping\n",
      "done with sleeping\n",
      "done with sleeping\n",
      "done with sleeping\n",
      "done with sleeping\n",
      "done with sleeping\n",
      "done with sleeping\n",
      "The program finished in 1.0068712999927811 seconds\n"
     ]
    }
   ],
   "source": [
    "import time\n",
    "import threading # python odule no need to install\n",
    "start = time.perf_counter()\n",
    "\n",
    "def test_func():\n",
    "    print(\"Do Something\")\n",
    "    print(\"sleep for 1 sec\")\n",
    "    time.sleep(1)\n",
    "    print(\"done with sleeping\")\n",
    "#run the program on 2 threads t1,t2\n",
    "threads = []\n",
    "for i in range(10):\n",
    "    t = threading.Thread(target = test_func)\n",
    "    t.start()\n",
    "    threads.append(t)\n",
    "\n",
    "for thread in threads:\n",
    "    thread.join()\n",
    "\n",
    "\n",
    "end = time.perf_counter()\n",
    "\n",
    "print(f\"The program finished in {end-start} seconds\")"
   ]
  },
  {
   "cell_type": "code",
   "execution_count": 8,
   "id": "1b829d18-5cd7-4f2f-95c6-38fcc6bdc844",
   "metadata": {},
   "outputs": [],
   "source": [
    "#since test_func is called 10 times so it should take 10 secs but is completed in only 1 sec"
   ]
  },
  {
   "cell_type": "code",
   "execution_count": 9,
   "id": "d650c807-cf1c-46b2-bec7-06f6ea6c51aa",
   "metadata": {},
   "outputs": [
    {
     "name": "stdout",
     "output_type": "stream",
     "text": [
      "Do Something\n",
      "sleep for 2 1 sec\n",
      "Do Something\n",
      "sleep for 2 1 sec\n",
      "Do Something\n",
      "sleep for 2 1 sec\n",
      "Do Something\n",
      "sleep for 2 1 sec\n",
      "Do Something\n",
      "sleep for 2 1 sec\n",
      "Do Something\n",
      "sleep for 2 1 sec\n",
      "Do Something\n",
      "sleep for 2 1 sec\n",
      "Do Something\n",
      "sleep for 2 1 sec\n",
      "Do Something\n",
      "sleep for 2 1 sec\n",
      "Do Something\n",
      "sleep for 2 1 sec\n",
      "done with sleeping\n",
      "done with sleeping\n",
      "done with sleeping\n",
      "done with sleeping\n",
      "done with sleeping\n",
      "done with sleeping\n",
      "done with sleeping\n",
      "done with sleeping\n",
      "done with sleeping\n",
      "done with sleeping\n",
      "The program finished in 2.0073325999983354 seconds\n"
     ]
    }
   ],
   "source": [
    "#using multithreading that takes an argument\n",
    "import time\n",
    "import threading # python odule no need to install\n",
    "start = time.perf_counter()\n",
    "\n",
    "def test_func(args):\n",
    "    print(\"Do Something\")\n",
    "    print(f\"sleep for {args} 1 sec\")\n",
    "    time.sleep(args)\n",
    "    print(\"done with sleeping\")\n",
    "#run the program on 2 threads t1,t2\n",
    "threads = []\n",
    "for i in range(10):\n",
    "    t = threading.Thread(target = test_func, args = [2])\n",
    "    t.start()\n",
    "    threads.append(t)\n",
    "\n",
    "for thread in threads:\n",
    "    thread.join()\n",
    "\n",
    "\n",
    "end = time.perf_counter()\n",
    "\n",
    "print(f\"The program finished in {end-start} seconds\")"
   ]
  },
  {
   "cell_type": "code",
   "execution_count": 10,
   "id": "95f1af41-4666-4ace-b0c5-04a5fcfd3e5b",
   "metadata": {},
   "outputs": [],
   "source": [
    "#use case\n",
    "#Muktithreading works well with I/O bound task means where some output has to wait for input\n",
    "#example: reading writing the files , network communication , data base queries\n"
   ]
  },
  {
   "cell_type": "code",
   "execution_count": null,
   "id": "491944e9-4e34-42c2-b6c1-251cb958fce5",
   "metadata": {},
   "outputs": [],
   "source": [
    "#USE CASE just give url link to make it work\n",
    "import time \n",
    "import threading\n",
    "start = time.perf_counter()\n",
    "url_list = [\" PASTE urls over here\"]\n",
    "data_list = [\"data1.txt\", \"data2.txt\",\"you can add more\"]\n",
    "\n",
    "import urllib.request\n",
    "\n",
    "def file_download(url,filename):\n",
    "    urllib.request.urlretrieve(url, filename)\n",
    "\n",
    "threads = []\n",
    "for i in range(len(url_list)):\n",
    "    t = threading.Thread(target = file_download, args = (url_list[i] , data_list[i]))\n",
    "    t.start()\n",
    "    threads.append(t)\n",
    "\n",
    "for thread in threads:\n",
    "    thread.join()\n",
    "\n",
    "\n",
    "end = time.perf_counter()\n",
    "\n",
    "print(f\"The program finished in {end-start} seconds\")\n"
   ]
  },
  {
   "cell_type": "code",
   "execution_count": null,
   "id": "4b6705a9-3f91-43e3-9100-0470ead62c6d",
   "metadata": {},
   "outputs": [],
   "source": [
    "#multithreading using concurrent.futures >> keeps code concise\n",
    "\n",
    "\n",
    "import time \n",
    "import concurrent.futures\n",
    "start = time.perf_counter()\n",
    "url_list = [\" PASTE urls over here\"]\n",
    "data_list = [\"data1.txt\", \"data2.txt\",\"you can add more\"]\n",
    "\n",
    "import urllib.request\n",
    "\n",
    "def file_download(url,filename):\n",
    "    urllib.request.urlretrieve(url, filename)\n",
    "\n",
    "    with concurrent.futures.ThreadPoolExecutor() as executor:\n",
    "        executor.map(file_download , url_list , data_list) #args >> function name with arguments of functions\n",
    "        \n",
    "\n",
    "\n",
    "end = time.perf_counter()\n",
    "\n",
    "print(f\"The program finished in {end-start} seconds\")"
   ]
  },
  {
   "cell_type": "code",
   "execution_count": 16,
   "id": "795a0b34-f1ef-4d8d-9361-36a5b681af3b",
   "metadata": {},
   "outputs": [
    {
     "name": "stdout",
     "output_type": "stream",
     "text": [
      "Thread 1:incremenred shared counter to 1\n",
      "Thread 2:incremenred shared counter to 2\n",
      "Thread 3:incremenred shared counter to 3\n",
      "Thread 4:incremenred shared counter to 4\n",
      "Thread 5:incremenred shared counter to 5\n",
      "Thread 6:incremenred shared counter to 6\n",
      "The program finished in 6.013252100005047 seconds\n"
     ]
    }
   ],
   "source": [
    "#shared variable across all the threads\n",
    "\n",
    "start = time.perf_counter()\n",
    "shared_counter = 0\n",
    "counter_lock = threading.Lock() #Lockinng the counter for specific thread\n",
    "\n",
    "def increment_shared_counter(x):\n",
    "    global shared_counter # accessed by all the threads\n",
    "    with counter_lock:\n",
    "        shared_counter = shared_counter+1\n",
    "        print(f\"Thread {x}:incremenred shared counter to {shared_counter}\")\n",
    "        time.sleep(1)\n",
    "\n",
    "threads = [threading.Thread(target = increment_shared_counter, args = (i,)) for i in [1,2,3,4,5,6]]\n",
    "\n",
    "for thread in threads:\n",
    "    thread.start()\n",
    "for thread in threads:\n",
    "    thread.join()\n",
    "\n",
    "end = time.perf_counter()\n",
    "\n",
    "print(f\"The program finished in {end-start} seconds\")"
   ]
  },
  {
   "cell_type": "code",
   "execution_count": null,
   "id": "422aaa19-8bd7-4a9d-94f0-07dc4ea78d3a",
   "metadata": {},
   "outputs": [],
   "source": [
    "#same thing using concurrent features \n",
    "start = time.perf_counter()\n",
    "shared_counter = 0\n",
    "counter_lock = threading.Lock() #Lockinng the counter for specific thread\n",
    "\n",
    "def increment_shared_counter(x):\n",
    "    global shared_counter # accessed by all the threads\n",
    "    with counter_lock:\n",
    "        shared_counter = shared_counter+1\n",
    "        print(f\"Thread {x}:incremenred shared counter to {shared_counter}\")\n",
    "        time.sleep(1)\n",
    "\n",
    "with concurrent.futures.ThreadPoolExecutor() as executor:\n",
    "    executor.map(increment_shared_counter, args)\n",
    "    \n",
    "\n",
    "end = time.perf_counter()\n",
    "\n",
    "print(f\"The program finished in {end-start} seconds\")"
   ]
  }
 ],
 "metadata": {
  "kernelspec": {
   "display_name": "Python [conda env:base] *",
   "language": "python",
   "name": "conda-base-py"
  },
  "language_info": {
   "codemirror_mode": {
    "name": "ipython",
    "version": 3
   },
   "file_extension": ".py",
   "mimetype": "text/x-python",
   "name": "python",
   "nbconvert_exporter": "python",
   "pygments_lexer": "ipython3",
   "version": "3.13.5"
  }
 },
 "nbformat": 4,
 "nbformat_minor": 5
}

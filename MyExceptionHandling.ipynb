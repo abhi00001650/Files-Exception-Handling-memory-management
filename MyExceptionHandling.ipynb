{
 "cells": [
  {
   "cell_type": "code",
   "execution_count": 1,
   "id": "7aa8ce6b-6c9c-4b39-8264-ffef7833b005",
   "metadata": {},
   "outputs": [],
   "source": [
    "#generally something that disrupts the normal event is exception\n",
    "#In python an exception is an event that occurs during programme execution that disrupts the ruglar flow of code"
   ]
  },
  {
   "cell_type": "code",
   "execution_count": 4,
   "id": "7a466ed0-96a9-443c-91dc-ed1c08d149f1",
   "metadata": {},
   "outputs": [
    {
     "name": "stdout",
     "output_type": "stream",
     "text": [
      "2.0\n",
      "0.6\n",
      "Hello\n"
     ]
    },
    {
     "ename": "ZeroDivisionError",
     "evalue": "division by zero",
     "output_type": "error",
     "traceback": [
      "\u001b[1;31m---------------------------------------------------------------------------\u001b[0m",
      "\u001b[1;31mZeroDivisionError\u001b[0m                         Traceback (most recent call last)",
      "Cell \u001b[1;32mIn[4], line 4\u001b[0m\n\u001b[0;32m      2\u001b[0m \u001b[38;5;28mprint\u001b[39m(\u001b[38;5;241m3\u001b[39m\u001b[38;5;241m/\u001b[39m\u001b[38;5;241m5\u001b[39m)\n\u001b[0;32m      3\u001b[0m \u001b[38;5;28mprint\u001b[39m(\u001b[38;5;124m\"\u001b[39m\u001b[38;5;124mHello\u001b[39m\u001b[38;5;124m\"\u001b[39m)\n\u001b[1;32m----> 4\u001b[0m \u001b[38;5;28mprint\u001b[39m(\u001b[38;5;241m6\u001b[39m\u001b[38;5;241m/\u001b[39m\u001b[38;5;241m0\u001b[39m) \u001b[38;5;66;03m# suspicious code which breaks and doesnt allow to execute the remaining code\u001b[39;00m\n\u001b[0;32m      5\u001b[0m \u001b[38;5;28mprint\u001b[39m(\u001b[38;5;124m\"\u001b[39m\u001b[38;5;124mCall me abhi\u001b[39m\u001b[38;5;124m\"\u001b[39m)\n\u001b[0;32m      6\u001b[0m \u001b[38;5;28mprint\u001b[39m(\u001b[38;5;241m2\u001b[39m\u001b[38;5;241m+\u001b[39m\u001b[38;5;241m3\u001b[39m)\n",
      "\u001b[1;31mZeroDivisionError\u001b[0m: division by zero"
     ]
    }
   ],
   "source": [
    "print(4/2)\n",
    "print(3/5)\n",
    "print(\"Hello\")\n",
    "print(6/0) # suspicious code which breaks and doesnt allow to execute the remaining code\n",
    "print(\"Call me abhi\")\n",
    "print(2+3)\n",
    "print(\"code ends here\")"
   ]
  },
  {
   "cell_type": "code",
   "execution_count": 6,
   "id": "eddfefc6-2b24-40f1-a158-f8429514df88",
   "metadata": {},
   "outputs": [
    {
     "ename": "FileNotFoundError",
     "evalue": "[Errno 2] No such file or directory: 'example23.txt'",
     "output_type": "error",
     "traceback": [
      "\u001b[1;31m---------------------------------------------------------------------------\u001b[0m",
      "\u001b[1;31mFileNotFoundError\u001b[0m                         Traceback (most recent call last)",
      "Cell \u001b[1;32mIn[6], line 1\u001b[0m\n\u001b[1;32m----> 1\u001b[0m f \u001b[38;5;241m=\u001b[39m \u001b[38;5;28mopen\u001b[39m(\u001b[38;5;124m\"\u001b[39m\u001b[38;5;124mexample23.txt\u001b[39m\u001b[38;5;124m\"\u001b[39m,\u001b[38;5;124m\"\u001b[39m\u001b[38;5;124mr\u001b[39m\u001b[38;5;124m\"\u001b[39m)\n\u001b[0;32m      2\u001b[0m \u001b[38;5;28mprint\u001b[39m(\u001b[38;5;241m6\u001b[39m\u001b[38;5;241m+\u001b[39m\u001b[38;5;241m3\u001b[39m)\n\u001b[0;32m      3\u001b[0m \u001b[38;5;28mprint\u001b[39m(\u001b[38;5;124m\"\u001b[39m\u001b[38;5;124mhelloo\u001b[39m\u001b[38;5;124m\"\u001b[39m)\n",
      "File \u001b[1;32m~\\anaconda3\\Lib\\site-packages\\IPython\\core\\interactiveshell.py:324\u001b[0m, in \u001b[0;36m_modified_open\u001b[1;34m(file, *args, **kwargs)\u001b[0m\n\u001b[0;32m    317\u001b[0m \u001b[38;5;28;01mif\u001b[39;00m file \u001b[38;5;129;01min\u001b[39;00m {\u001b[38;5;241m0\u001b[39m, \u001b[38;5;241m1\u001b[39m, \u001b[38;5;241m2\u001b[39m}:\n\u001b[0;32m    318\u001b[0m     \u001b[38;5;28;01mraise\u001b[39;00m \u001b[38;5;167;01mValueError\u001b[39;00m(\n\u001b[0;32m    319\u001b[0m         \u001b[38;5;124mf\u001b[39m\u001b[38;5;124m\"\u001b[39m\u001b[38;5;124mIPython won\u001b[39m\u001b[38;5;124m'\u001b[39m\u001b[38;5;124mt let you open fd=\u001b[39m\u001b[38;5;132;01m{\u001b[39;00mfile\u001b[38;5;132;01m}\u001b[39;00m\u001b[38;5;124m by default \u001b[39m\u001b[38;5;124m\"\u001b[39m\n\u001b[0;32m    320\u001b[0m         \u001b[38;5;124m\"\u001b[39m\u001b[38;5;124mas it is likely to crash IPython. If you know what you are doing, \u001b[39m\u001b[38;5;124m\"\u001b[39m\n\u001b[0;32m    321\u001b[0m         \u001b[38;5;124m\"\u001b[39m\u001b[38;5;124myou can use builtins\u001b[39m\u001b[38;5;124m'\u001b[39m\u001b[38;5;124m open.\u001b[39m\u001b[38;5;124m\"\u001b[39m\n\u001b[0;32m    322\u001b[0m     )\n\u001b[1;32m--> 324\u001b[0m \u001b[38;5;28;01mreturn\u001b[39;00m io_open(file, \u001b[38;5;241m*\u001b[39margs, \u001b[38;5;241m*\u001b[39m\u001b[38;5;241m*\u001b[39mkwargs)\n",
      "\u001b[1;31mFileNotFoundError\u001b[0m: [Errno 2] No such file or directory: 'example23.txt'"
     ]
    }
   ],
   "source": [
    "f = open(\"example23.txt\",\"r\")\n",
    "print(6+3)\n",
    "print(\"helloo\")"
   ]
  },
  {
   "cell_type": "code",
   "execution_count": 7,
   "id": "b93946a3-ab54-49b6-8abd-29092d9e3184",
   "metadata": {},
   "outputs": [],
   "source": [
    "#you were expecting something but it didnt happen ,  due to which the suspicious line threw error and the next lines of code didnt get executed , there are lot of exceptions\n",
    "#WHY WE NEED TO HANDLE SUSPICIOUS CODE  ?\n",
    "#WHENEVER ECEPTION OCCURS PYTHON STOPS THE  PROGRAM AND GENERATE THE EXCEPTION\n",
    "#>>HANDLING THIS EXCEPTION IS ADVISED \n",
    "#>> EVERY CODE THAT S RISKY YOU SHOULD HANDLE THE EXCEPTION"
   ]
  },
  {
   "cell_type": "code",
   "execution_count": 8,
   "id": "5679a7c2-b0a5-48c8-b494-279b04c4feb9",
   "metadata": {},
   "outputs": [],
   "source": [
    "#SYNTAX OF TRY EXCEPT \n",
    "#try:\n",
    "    #suspicious code\n",
    "#except:\n",
    "    #executed when exception occurs in try block"
   ]
  },
  {
   "cell_type": "code",
   "execution_count": 10,
   "id": "b2b82138-91c1-4554-be39-5954cc0e194a",
   "metadata": {},
   "outputs": [
    {
     "name": "stdout",
     "output_type": "stream",
     "text": [
      "There is an issue with the code and the issue is : [Errno 2] No such file or directory: 'example23.txt'\n",
      "9\n",
      "helloo\n"
     ]
    }
   ],
   "source": [
    "try:\n",
    "    f = open(\"example23.txt\",\"r\")\n",
    "except Exception as e:\n",
    "    print(\"There is an issue with the code and the issue is :\" , e)\n",
    "print(6+3)\n",
    "print(\"helloo\")"
   ]
  },
  {
   "cell_type": "code",
   "execution_count": 12,
   "id": "2a544763-c07a-4a97-9fdf-6e894bea3da2",
   "metadata": {},
   "outputs": [
    {
     "name": "stdout",
     "output_type": "stream",
     "text": [
      "The error is coming by division by zero\n",
      "9\n",
      "helloo\n"
     ]
    }
   ],
   "source": [
    "try:\n",
    "    5/0\n",
    "except Exception as e:\n",
    "    print(\"The error is coming by\",e)\n",
    "print(6+3)\n",
    "print(\"helloo\")"
   ]
  },
  {
   "cell_type": "code",
   "execution_count": 14,
   "id": "c06fcba0-c36d-43bc-9d03-8fc6a4fe20a7",
   "metadata": {},
   "outputs": [
    {
     "name": "stdout",
     "output_type": "stream",
     "text": [
      "The error is coming by division by zero\n"
     ]
    }
   ],
   "source": [
    "try:\n",
    "    5/0\n",
    "except Exception as e:\n",
    "    print(\"The error is coming by\",e)\n",
    "else:\n",
    "    print(5+3)\n",
    "    print(\"This will be executed if try block is executed without any exception\")\n",
    "    "
   ]
  },
  {
   "cell_type": "code",
   "execution_count": 15,
   "id": "caa4dc02-9864-4051-8e03-e369544783dc",
   "metadata": {},
   "outputs": [],
   "source": [
    "#use case of else >> you want to execute some code only if the try statement is successful and code dont enter exception block"
   ]
  },
  {
   "cell_type": "code",
   "execution_count": 18,
   "id": "978e68c5-646c-44e9-989b-f5c8055ce28a",
   "metadata": {},
   "outputs": [
    {
     "name": "stdout",
     "output_type": "stream",
     "text": [
      "8\n",
      "This will be executed if try block is executed without any exception\n"
     ]
    }
   ],
   "source": [
    "#USE CASE 1\n",
    "try:\n",
    "    f = open(\"example.txt\" , 'r')\n",
    "except Exception as e:\n",
    "    print(\"The error is coming by\",e)\n",
    "else:\n",
    "    print(5+3)\n",
    "    print(\"This will be executed if try block is executed without any exception\")\n",
    "    "
   ]
  },
  {
   "cell_type": "code",
   "execution_count": 22,
   "id": "0632d171-23a8-4eab-9ac2-5baf4f3f2b3a",
   "metadata": {},
   "outputs": [
    {
     "name": "stdout",
     "output_type": "stream",
     "text": [
      "8\n",
      "This will be executed if try block is executed without any exception\n"
     ]
    }
   ],
   "source": [
    "#USE CASE 2\n",
    "try:\n",
    "    f = open(\"example.txt\" , 'w')\n",
    "    f.write(\"Hello to exceptional handling\") # you will not see written content you close the file\n",
    "except Exception as e:\n",
    "    print(\"The error is coming by\",e)\n",
    "else:\n",
    "    f.close()\n",
    "    print(5+3)\n",
    "    print(\"This will be executed if try block is executed without any exception\")\n",
    "    "
   ]
  },
  {
   "cell_type": "code",
   "execution_count": 23,
   "id": "c81941a0-3f17-455f-a8ec-a99c9476a73b",
   "metadata": {},
   "outputs": [],
   "source": [
    "#else block is very healpful when you code didnt enter the exception block\n",
    "#for example you wanted to close the file after it was opened in try block"
   ]
  },
  {
   "cell_type": "code",
   "execution_count": 26,
   "id": "c5413ae6-ca37-4de9-89f3-94ba402ea1bf",
   "metadata": {},
   "outputs": [
    {
     "name": "stdout",
     "output_type": "stream",
     "text": [
      "8\n",
      "This will be executed if try block is executed without any exception\n",
      "this gets executed always\n"
     ]
    }
   ],
   "source": [
    "#finally block>> always executed\n",
    "#even if you enter exception block or not finally will be executed always\n",
    "#similar to running other lines of code\n",
    "#USE CASE \n",
    "try:\n",
    "    f = open(\"example.txt\" , 'w')\n",
    "    f.write(\"Hello to exceptional handling\") # you will not see written content you close the file\n",
    "except Exception as e:\n",
    "    print(\"The error is coming by\",e)\n",
    "else:\n",
    "    f.close()\n",
    "    print(5+3)\n",
    "    print(\"This will be executed if try block is executed without any exception\")\n",
    "finally: # this will be executed always\n",
    "    print(\"this gets executed always\")"
   ]
  },
  {
   "cell_type": "code",
   "execution_count": 27,
   "id": "fd77cfa8-8dab-4241-9ed9-ee71470b4a8b",
   "metadata": {},
   "outputs": [
    {
     "name": "stdout",
     "output_type": "stream",
     "text": [
      "division by zero\n",
      "hello\n"
     ]
    }
   ],
   "source": [
    "#another example \n",
    "try:\n",
    "    5/0\n",
    "except Exception as e:\n",
    "    print(e)\n",
    "finally:\n",
    "    print(\"hello\")"
   ]
  },
  {
   "cell_type": "code",
   "execution_count": 29,
   "id": "97bf304a-2ef9-4a4d-9684-78decace16d9",
   "metadata": {},
   "outputs": [
    {
     "name": "stdin",
     "output_type": "stream",
     "text": [
      "enter your salary - -1000\n"
     ]
    }
   ],
   "source": [
    "#making own exception class\n",
    "#custom exception\n",
    "income = int(input(\"enter your salary -\"))"
   ]
  },
  {
   "cell_type": "code",
   "execution_count": 30,
   "id": "c5bfc71a-d1cb-48c1-864c-d5a78567be8a",
   "metadata": {},
   "outputs": [],
   "source": [
    "def validate_salary(salary):\n",
    "    if salary <= 0:\n",
    "        print(\"Not possible\")\n",
    "    elif salary >= 3000000:\n",
    "        print(\"Salary is unexpected\")\n",
    "    else:\n",
    "        print(\"Salary is valid :\", salary)"
   ]
  },
  {
   "cell_type": "code",
   "execution_count": 31,
   "id": "ce3b5884-9baf-4e20-ab1f-094eda8731df",
   "metadata": {},
   "outputs": [
    {
     "name": "stdout",
     "output_type": "stream",
     "text": [
      "Salary is unexpected\n"
     ]
    }
   ],
   "source": [
    "validate_salary(500000000000)"
   ]
  },
  {
   "cell_type": "code",
   "execution_count": 32,
   "id": "cd7ccabd-b471-47ee-a095-ab2eb66a6ae1",
   "metadata": {},
   "outputs": [
    {
     "name": "stdout",
     "output_type": "stream",
     "text": [
      "Not possible\n"
     ]
    }
   ],
   "source": [
    "validate_salary(-5)"
   ]
  },
  {
   "cell_type": "code",
   "execution_count": 34,
   "id": "4e91cac3-6a53-4a21-85a0-eadd73506ad1",
   "metadata": {},
   "outputs": [
    {
     "name": "stdout",
     "output_type": "stream",
     "text": [
      "Salary is valid : 500\n"
     ]
    }
   ],
   "source": [
    "validate_salary(500)"
   ]
  },
  {
   "cell_type": "code",
   "execution_count": 36,
   "id": "f85a96c3-668a-4873-a42c-0d48a4270337",
   "metadata": {},
   "outputs": [],
   "source": [
    "#custom exception class\n",
    "class Validate_salary(Exception): #Exception is the parent class where all type of exceptions are available\n",
    "    def __init__(self,msg):\n",
    "        self.msg = msg\n",
    "    def validate_salary(salary):\n",
    "        if salary <= 0:\n",
    "            raise Validate_Salary(\"Not possible\")\n",
    "        elif salary >= 3000000:\n",
    "            raise Validate_Salary(\"Salary is unexpected\")\n",
    "        else:\n",
    "            print(\"Salary is valid :\", salary)"
   ]
  },
  {
   "cell_type": "code",
   "execution_count": 39,
   "id": "b301653d-fcd0-4303-a38c-93e0b3dd82df",
   "metadata": {},
   "outputs": [
    {
     "name": "stdin",
     "output_type": "stream",
     "text": [
      "enter your salary - 300000\n"
     ]
    },
    {
     "name": "stdout",
     "output_type": "stream",
     "text": [
      "Salary is valid : 300000\n"
     ]
    }
   ],
   "source": [
    "try:\n",
    "    salary = int(input(\"enter your salary -\"))\n",
    "    validate_salary(salary)\n",
    "except Validate_salary as e:\n",
    "    print(e)"
   ]
  },
  {
   "cell_type": "code",
   "execution_count": 41,
   "id": "d10fd120-66e8-48b2-93cc-bcba1b649644",
   "metadata": {},
   "outputs": [],
   "source": [
    "#GENERAL USE OF EXCEPTION HANDLING"
   ]
  },
  {
   "cell_type": "code",
   "execution_count": 46,
   "id": "7e046fd3-971d-4ce0-9fe2-a09793b168c0",
   "metadata": {},
   "outputs": [
    {
     "name": "stdout",
     "output_type": "stream",
     "text": [
      "Some string is being used in division unsupported operand type(s) for /: 'int' and 'str'\n"
     ]
    }
   ],
   "source": [
    "#example\n",
    "try:\n",
    "    10/\"some string\"\n",
    "except TypeError as e:\n",
    "    print(\"Some string is being used in division\", e)"
   ]
  },
  {
   "cell_type": "code",
   "execution_count": 45,
   "id": "7ec8bfa2-f487-4638-a345-802f9c24d1c1",
   "metadata": {},
   "outputs": [],
   "source": [
    "#benefit of handling specific error >> you know what error is expected and if other error comes which you were not able to think , you be able address that "
   ]
  },
  {
   "cell_type": "code",
   "execution_count": 47,
   "id": "bcaff00c-9cd9-42e0-ab6b-d762e8942705",
   "metadata": {},
   "outputs": [
    {
     "name": "stdout",
     "output_type": "stream",
     "text": [
      "Some string is being used in division unsupported operand type(s) for /: 'int' and 'str'\n",
      "the calculation is  3.3333333333333335\n"
     ]
    }
   ],
   "source": [
    "#example\n",
    "try:\n",
    "    10/\"some string\"\n",
    "except TypeError as e:\n",
    "    print(\"Some string is being used in division\", e)\n",
    "    print(\"the calculation is \" ,10/int(\"3\"))\n",
    "    "
   ]
  },
  {
   "cell_type": "code",
   "execution_count": 50,
   "id": "94c7c22c-d8fe-4e52-b9b3-71ff82b05355",
   "metadata": {},
   "outputs": [
    {
     "name": "stdout",
     "output_type": "stream",
     "text": [
      "Here i am handling the zero division error: division by zero\n",
      "Since the den value is 0 , using default value 1 , the quotient is  10.0\n"
     ]
    }
   ],
   "source": [
    "#another example of handling specific exception\n",
    "try:\n",
    "    10/0\n",
    "except ZeroDivisionError as e:\n",
    "    print(\"Here i am handling the zero division error:\" , e)\n",
    "    print(\"Since the den value is 0 , using default value 1 , the quotient is \", 10/1)"
   ]
  },
  {
   "cell_type": "code",
   "execution_count": 51,
   "id": "e0a45be6-9a1d-4801-8473-349919b8afdd",
   "metadata": {},
   "outputs": [
    {
     "ename": "ValueError",
     "evalue": "invalid literal for int() with base 10: 'Abhi'",
     "output_type": "error",
     "traceback": [
      "\u001b[1;31m---------------------------------------------------------------------------\u001b[0m",
      "\u001b[1;31mValueError\u001b[0m                                Traceback (most recent call last)",
      "Cell \u001b[1;32mIn[51], line 3\u001b[0m\n\u001b[0;32m      1\u001b[0m \u001b[38;5;66;03m#another example\u001b[39;00m\n\u001b[1;32m----> 3\u001b[0m \u001b[38;5;28mint\u001b[39m(\u001b[38;5;124m\"\u001b[39m\u001b[38;5;124mAbhi\u001b[39m\u001b[38;5;124m\"\u001b[39m)\n",
      "\u001b[1;31mValueError\u001b[0m: invalid literal for int() with base 10: 'Abhi'"
     ]
    }
   ],
   "source": [
    "#another example\n",
    "\n",
    "int(\"Abhi\")"
   ]
  },
  {
   "cell_type": "code",
   "execution_count": 52,
   "id": "4b8d48e6-bb9d-4bd7-ad3a-a598a0d6a05e",
   "metadata": {},
   "outputs": [
    {
     "name": "stdout",
     "output_type": "stream",
     "text": [
      "The string cannot be converted to integer invalid literal for int() with base 10: 'Abhi'\n"
     ]
    }
   ],
   "source": [
    "try:\n",
    "    int(\"Abhi\")\n",
    "except ValueError as e:\n",
    "    print(\"The string cannot be converted to integer\" ,e)"
   ]
  },
  {
   "cell_type": "code",
   "execution_count": 53,
   "id": "2764d0b1-0890-47c5-ad9f-b67f6ae935f9",
   "metadata": {},
   "outputs": [
    {
     "name": "stdout",
     "output_type": "stream",
     "text": [
      "Division not possible due to the error>> unsupported operand type(s) for /: 'int' and 'str'\n"
     ]
    }
   ],
   "source": [
    "#Handling 2 specific exceptions\n",
    "try:\n",
    "    10/\"3\"\n",
    "except (ZeroDivisionError, TypeError) as e:\n",
    "    print(\"Division not possible due to the error>>\" , e)\n"
   ]
  },
  {
   "cell_type": "code",
   "execution_count": 54,
   "id": "0e3714dc-6fe6-49d7-ab60-4841b9cb128a",
   "metadata": {},
   "outputs": [
    {
     "name": "stdout",
     "output_type": "stream",
     "text": [
      "Division not possible due to the error>> division by zero\n"
     ]
    }
   ],
   "source": [
    "#Handling 2 specific exceptions/MULTIPLE EXCEPTIONS\n",
    "try:\n",
    "    10/0\n",
    "except (ZeroDivisionError, TypeError) as e:\n",
    "    print(\"Division not possible due to the error>>\" , e)\n"
   ]
  },
  {
   "cell_type": "code",
   "execution_count": 55,
   "id": "db6e46c8-b99c-463e-9e66-4a566ff13df3",
   "metadata": {},
   "outputs": [
    {
     "name": "stdout",
     "output_type": "stream",
     "text": [
      "Division not possible due to the error>> division by zero\n"
     ]
    }
   ],
   "source": [
    "#HANDLE MULTIPLE EXCEPTIONS IN SEPARATE BLOCK\n",
    "try:\n",
    "    10/0\n",
    "except ZeroDivisionError as e:\n",
    "    print(\"Division not possible due to the error>>\" , e)\n",
    "except ValueError as e:\n",
    "    print(\"This is value error>>\" , e)"
   ]
  },
  {
   "cell_type": "code",
   "execution_count": 57,
   "id": "3c86964d-968b-436d-9ad5-901030f55413",
   "metadata": {},
   "outputs": [
    {
     "name": "stdout",
     "output_type": "stream",
     "text": [
      "This is the type error>> unsupported operand type(s) for /: 'int' and 'str'\n"
     ]
    }
   ],
   "source": [
    "try:\n",
    "    10/\"EE\"\n",
    "except ZeroDivisionError as e:\n",
    "    print(\"Division not possible due to the error>>\" , e)\n",
    "except ValueError as e:\n",
    "    print(\"This is value error>>\" , e)\n",
    "except TypeError as e:\n",
    "    print(\"This is the type error>>\" ,e)"
   ]
  },
  {
   "cell_type": "code",
   "execution_count": 58,
   "id": "841532c2-f0c8-4113-bdf5-57963a487b78",
   "metadata": {},
   "outputs": [],
   "source": [
    "import csv"
   ]
  },
  {
   "cell_type": "code",
   "execution_count": 60,
   "id": "860ecc6d-fc7f-4dbe-a3c8-5531ad6e887d",
   "metadata": {},
   "outputs": [
    {
     "name": "stdout",
     "output_type": "stream",
     "text": [
      "The module not found : No module named 'abhijeet'\n"
     ]
    }
   ],
   "source": [
    "try:\n",
    "    import abhijeet\n",
    "except ModuleNotFoundError as e:\n",
    "    print(\"The module not found :\", e)"
   ]
  },
  {
   "cell_type": "code",
   "execution_count": 68,
   "id": "9d035ac7-a729-418d-ab1c-6f5f2040ea21",
   "metadata": {},
   "outputs": [],
   "source": [
    "d = {\"name\": \"Abhi\" , \"class\" : \"CS\"}"
   ]
  },
  {
   "cell_type": "code",
   "execution_count": 69,
   "id": "cb08dcbd-a87a-4e45-a79a-ecd610529646",
   "metadata": {},
   "outputs": [
    {
     "ename": "KeyError",
     "evalue": "'age'",
     "output_type": "error",
     "traceback": [
      "\u001b[1;31m---------------------------------------------------------------------------\u001b[0m",
      "\u001b[1;31mKeyError\u001b[0m                                  Traceback (most recent call last)",
      "Cell \u001b[1;32mIn[69], line 1\u001b[0m\n\u001b[1;32m----> 1\u001b[0m d[\u001b[38;5;124m\"\u001b[39m\u001b[38;5;124mage\u001b[39m\u001b[38;5;124m\"\u001b[39m]\n",
      "\u001b[1;31mKeyError\u001b[0m: 'age'"
     ]
    }
   ],
   "source": [
    "d[\"age\"]"
   ]
  },
  {
   "cell_type": "code",
   "execution_count": 71,
   "id": "6678a9c8-a8c6-4f78-8e63-c932c06db55b",
   "metadata": {},
   "outputs": [
    {
     "name": "stdout",
     "output_type": "stream",
     "text": [
      "Key not found :  'age'\n"
     ]
    }
   ],
   "source": [
    "try:\n",
    "    d = {\"name\": \"Abhi\" , \"class\" : \"CS\"}\n",
    "    d[\"age\"]\n",
    "except KeyError as e:\n",
    "    print(\"Key not found : \", e)"
   ]
  },
  {
   "cell_type": "code",
   "execution_count": 73,
   "id": "9d8da19f-80ae-4382-ac8c-b54f71c9393c",
   "metadata": {},
   "outputs": [
    {
     "name": "stdout",
     "output_type": "stream",
     "text": [
      "Index not found : list index out of range\n"
     ]
    }
   ],
   "source": [
    "try:\n",
    "    l = [1,2,3,4]\n",
    "    l[4]\n",
    "except IndexError as e:\n",
    "    print(\"Index not found :\" , e)"
   ]
  },
  {
   "cell_type": "code",
   "execution_count": 75,
   "id": "21c8077a-758c-4d2d-a4ba-eac3a6680377",
   "metadata": {},
   "outputs": [
    {
     "name": "stdout",
     "output_type": "stream",
     "text": [
      "File not created : [Errno 2] No such file or directory: 'example234.txt'\n"
     ]
    }
   ],
   "source": [
    "try:\n",
    "    f = open(\"example234.txt\" , \"r\")\n",
    "    f.read()\n",
    "except FileNotFoundError as e:\n",
    "    print(\"File not created :\" , e)"
   ]
  },
  {
   "cell_type": "code",
   "execution_count": 76,
   "id": "20775a2e-f017-47ed-9ff6-6c8f4ac2f60e",
   "metadata": {},
   "outputs": [],
   "source": [
    "#sometime u will not know what could be the possible comninations possible extractions"
   ]
  },
  {
   "cell_type": "code",
   "execution_count": 77,
   "id": "476a580f-c62d-42e1-839e-17ddc6e5d769",
   "metadata": {},
   "outputs": [
    {
     "name": "stdout",
     "output_type": "stream",
     "text": [
      "File not opened due to: [Errno 2] No such file or directory: 'example234.txt'\n"
     ]
    }
   ],
   "source": [
    "try:\n",
    "    f = open(\"example234.txt\" , \"r\")\n",
    "    f.read()\n",
    "except Exception as e: #Parent class : so it will not go to second exception case\n",
    "    print(\"File not opened due to:\" , e)\n",
    "except FileNotFoundError as e:\n",
    "    print(\"File not created :\" , e)"
   ]
  },
  {
   "cell_type": "code",
   "execution_count": 81,
   "id": "14c6bfcc-9482-4a44-8daf-1a44c7a379fc",
   "metadata": {},
   "outputs": [
    {
     "name": "stdout",
     "output_type": "stream",
     "text": [
      "File not created : [Errno 2] No such file or directory: 'example234.txt'\n",
      "You are stupid\n"
     ]
    }
   ],
   "source": [
    "#incase u know specific exception keep that block first and the block of generic exception after that\n",
    "#BEST PRACTICE///\n",
    "try:\n",
    "    f = open(\"example234.txt\" , \"r\")\n",
    "    f.read()\n",
    "except FileNotFoundError as e:\n",
    "    print(\"File not created :\" , e)\n",
    "except Exception as e: #Parent class : so it will not go to second exception case\n",
    "    print(\"File not opened due to:\" , e)\n",
    "finally: # this will get executed always after above block of code\n",
    "    print(\"You are stupid\")"
   ]
  },
  {
   "cell_type": "code",
   "execution_count": 82,
   "id": "3b53ae9c-7b98-4ac6-833a-4462bd433f88",
   "metadata": {},
   "outputs": [
    {
     "name": "stdout",
     "output_type": "stream",
     "text": [
      "The error is : unsupported operand type(s) for /: 'int' and 'str'\n"
     ]
    }
   ],
   "source": [
    "#another example for above case\n",
    "try:\n",
    "    10/\"EE\"\n",
    "except ZeroDivisionError as e:\n",
    "    print(\"Division not possible due to the error>>\" , e)\n",
    "except Exception as e:\n",
    "    print(\"The error is :\" ,e)"
   ]
  },
  {
   "cell_type": "code",
   "execution_count": 83,
   "id": "5441aca1-5602-43da-9405-403a138a108f",
   "metadata": {},
   "outputs": [],
   "source": [
    "#BEST PRACTICE >> ALWAYS TRY TO LOG\n",
    "import logging\n",
    "logging.basicConfig(filename = \"program.log\" , level = logging.DEBUG)\n",
    "try:\n",
    "    f = open(\"example234.txt\" , \"r\")\n",
    "    f.read()\n",
    "except FileNotFoundError as e:\n",
    "    logging.error(f\"My file was not found {e}\")"
   ]
  },
  {
   "cell_type": "code",
   "execution_count": 85,
   "id": "0447d170-8992-4886-a173-0483bf2731d8",
   "metadata": {},
   "outputs": [],
   "source": [
    "import logging\n",
    "logging.basicConfig(filename = \"program1.log\" , level = logging.DEBUG)\n",
    "try:\n",
    "    10/0\n",
    "except ZeroDivisionError as e:\n",
    "    logging.error(f\"My file was not found {e}\")"
   ]
  },
  {
   "cell_type": "code",
   "execution_count": 87,
   "id": "b1c6e556-7d21-4440-97a4-58fdc59f72e3",
   "metadata": {},
   "outputs": [],
   "source": [
    "#putting exception handling in a function\n",
    "def test(file):\n",
    "    try:\n",
    "        f = open(file , \"r\")\n",
    "        f.read()\n",
    "    except FileNotFoundError as e:\n",
    "        print(f\"My file was not found {e}\")"
   ]
  },
  {
   "cell_type": "code",
   "execution_count": 88,
   "id": "fa3fa16f-7773-4b82-b6f8-66466ee6769b",
   "metadata": {},
   "outputs": [
    {
     "name": "stdout",
     "output_type": "stream",
     "text": [
      "My file was not found [Errno 2] No such file or directory: 'example123.txt'\n"
     ]
    }
   ],
   "source": [
    "test(\"example123.txt\")"
   ]
  },
  {
   "cell_type": "code",
   "execution_count": 90,
   "id": "86f72384-20ac-415e-8d06-3b80ef0c5776",
   "metadata": {},
   "outputs": [
    {
     "name": "stdout",
     "output_type": "stream",
     "text": [
      "Division not possible : division by zero\n"
     ]
    }
   ],
   "source": [
    "#DO NOT TRY TO USE UNNECESSARY EXCEPTION OR MULTIPLE EXCEPTION >>NOT THE BEST PRACTICE\n",
    "try:\n",
    "    10/0\n",
    "except ZeroDivisionError as e:\n",
    "    print(f\"Division not possible : {e}\")\n",
    "except FileNotFoundError as e: #not possible in this division // dont overload the exceptions >> BE SPECIFIC\n",
    "    print(f\"Division not possible : {e}\")\n",
    "    "
   ]
  },
  {
   "cell_type": "code",
   "execution_count": 92,
   "id": "6321b7ec-645a-4845-b084-fe488efd4cf4",
   "metadata": {},
   "outputs": [],
   "source": [
    "def test(file):\n",
    "    try:\n",
    "        f = open(file , \"r\")\n",
    "        f.read()\n",
    "    except FileNotFoundError as e:\n",
    "        print(f\"My file was not found {e}\")\n",
    "    except ZeroDivisionError as e:\n",
    "        print(f\"Division not possible : {e}\")#does not make sense here // DONT OVERLOAD"
   ]
  },
  {
   "cell_type": "code",
   "execution_count": 94,
   "id": "99503d43-e89b-469e-87bb-da2493dec28f",
   "metadata": {},
   "outputs": [
    {
     "name": "stdout",
     "output_type": "stream",
     "text": [
      "My file was not found [Errno 2] No such file or directory: 'Hello.txt'\n"
     ]
    }
   ],
   "source": [
    "test(\"Hello.txt\")"
   ]
  },
  {
   "cell_type": "code",
   "execution_count": 95,
   "id": "d4f15ef0-9bb5-495e-881c-a9a5d85aee99",
   "metadata": {},
   "outputs": [],
   "source": [
    "#best practice : give generic documentation / proper comments in your code\n",
    "def test(file):\n",
    "    \"\"\"\n",
    "    This function is about reading a file\n",
    "\n",
    "    Args:\n",
    "        input: file(str)\n",
    "        output: text(str)\n",
    "    \"\"\"\n",
    "    try:\n",
    "        f = open(file , \"r\")\n",
    "        f.read()\n",
    "    except FileNotFoundError as e:\n",
    "        print(f\"My file was not found {e}\")\n",
    "    #unnecessary exception\n",
    "    except ZeroDivisionError as e:\n",
    "        print(f\"Division not possible : {e}\")#does not make sense here // DONT OVERLOAD"
   ]
  },
  {
   "cell_type": "code",
   "execution_count": 98,
   "id": "b4a3d08d-71bc-4446-94cd-fa1885230052",
   "metadata": {},
   "outputs": [],
   "source": [
    "#Always clean up the resources  >> USING finally:\n",
    "def test(file):\n",
    "    \"\"\"\n",
    "    This function is about reading a file\n",
    "\n",
    "    Args:\n",
    "        input: file(str)\n",
    "        output: text(str)\n",
    "    \"\"\"\n",
    "    try:\n",
    "        f = open(file , \"w\")\n",
    "        f.write(\"I am a D\n",
    "    except FileNotFoundError as e:\n",
    "        print(f\"My file was not found {e}\")\n",
    "    finally:\n",
    "        f.close()"
   ]
  },
  {
   "cell_type": "code",
   "execution_count": 99,
   "id": "5311b38c-a9ba-49c6-84ad-8f4ff5b50051",
   "metadata": {},
   "outputs": [],
   "source": [
    "test(\"example1.txt\")"
   ]
  },
  {
   "cell_type": "code",
   "execution_count": null,
   "id": "cf2d1e5a-01ca-4718-bd5e-f90d68667d55",
   "metadata": {},
   "outputs": [],
   "source": []
  }
 ],
 "metadata": {
  "kernelspec": {
   "display_name": "Python [conda env:base] *",
   "language": "python",
   "name": "conda-base-py"
  },
  "language_info": {
   "codemirror_mode": {
    "name": "ipython",
    "version": 3
   },
   "file_extension": ".py",
   "mimetype": "text/x-python",
   "name": "python",
   "nbconvert_exporter": "python",
   "pygments_lexer": "ipython3",
   "version": "3.13.5"
  }
 },
 "nbformat": 4,
 "nbformat_minor": 5
}
